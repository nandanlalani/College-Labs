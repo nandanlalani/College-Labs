{
 "cells": [
  {
   "cell_type": "markdown",
   "metadata": {},
   "source": [
    "<a href='https://www.darshan.ac.in/'> <img src='https://www.darshan.ac.in/Content/media/DU_Logo.svg' width=\"250\" height=\"300\"/></a>\n",
    "<pre>\n",
    "<center><b><h1>Python Programming - 2301CS404</b></center>\n",
    "<center><b><h1>Lab - 7</b></center>    \n",
    "<pre>"
   ]
  },
  {
   "cell_type": "markdown",
   "metadata": {},
   "source": [
    "# Set & Dictionary"
   ]
  },
  {
   "cell_type": "markdown",
   "metadata": {},
   "source": [
    "### 01) WAP to iterate over a set."
   ]
  },
  {
   "cell_type": "code",
   "execution_count": 100,
   "metadata": {},
   "outputs": [
    {
     "name": "stdout",
     "output_type": "stream",
     "text": [
      "{1, 2, 3, 4, 5}\n"
     ]
    }
   ],
   "source": [
    "st = {1,2,3,4,5}\n",
    "print(st)"
   ]
  },
  {
   "cell_type": "markdown",
   "metadata": {},
   "source": [
    "### 02) WAP to convert set into list, string and tuple."
   ]
  },
  {
   "cell_type": "code",
   "execution_count": 103,
   "metadata": {},
   "outputs": [
    {
     "name": "stdout",
     "output_type": "stream",
     "text": [
      "<class 'set'> {1, 2, 3, 4, 5}\n",
      "<class 'list'> [1, 2, 3, 4, 5]\n",
      "<class 'str'> {1, 2, 3, 4, 5}\n",
      "<class 'tuple'> (1, 2, 3, 4, 5)\n"
     ]
    }
   ],
   "source": [
    "st = {1,2,3,4,5}\n",
    "print(type(st),st)\n",
    "li = list(st)\n",
    "print(type(li),li)\n",
    "string = str(st)\n",
    "print(type(string),string)\n",
    "tup = tuple(st)\n",
    "print(type(tup),tup)"
   ]
  },
  {
   "cell_type": "markdown",
   "metadata": {},
   "source": [
    "### 03) WAP to find Maximum and Minimum from a set."
   ]
  },
  {
   "cell_type": "code",
   "execution_count": 113,
   "metadata": {},
   "outputs": [
    {
     "name": "stdout",
     "output_type": "stream",
     "text": [
      "max=8\n",
      "min=1\n"
     ]
    }
   ],
   "source": [
    "st = {5,1,3,4,8}\n",
    "print(f\"max={max(st)}\\nmin={min(st)}\")"
   ]
  },
  {
   "cell_type": "markdown",
   "metadata": {},
   "source": [
    "### 04) WAP to perform union of two sets."
   ]
  },
  {
   "cell_type": "code",
   "execution_count": 124,
   "metadata": {},
   "outputs": [
    {
     "name": "stdout",
     "output_type": "stream",
     "text": [
      "{0, 1, 2, 3, 4, 5, 6, 7, 8, 9}\n"
     ]
    }
   ],
   "source": [
    "st1 = {0,1,2,3,4}\n",
    "st2 = {5,6,7,8,9}\n",
    "print(st1|st2)"
   ]
  },
  {
   "cell_type": "markdown",
   "metadata": {},
   "source": [
    "### 05) WAP to check if two lists have at-least one element common."
   ]
  },
  {
   "cell_type": "code",
   "execution_count": 125,
   "metadata": {},
   "outputs": [
    {
     "name": "stdout",
     "output_type": "stream",
     "text": [
      "{0}\n"
     ]
    }
   ],
   "source": [
    "li1 = [0,1,2,3,4]\n",
    "li2 = [5,6,5,8,0]\n",
    "\n",
    "st1,st2 = set(li1),set(li2)\n",
    "print(st1&st2)"
   ]
  },
  {
   "cell_type": "markdown",
   "metadata": {},
   "source": [
    "### 06) WAP to remove duplicates from list."
   ]
  },
  {
   "cell_type": "code",
   "execution_count": 119,
   "metadata": {},
   "outputs": [
    {
     "name": "stdout",
     "output_type": "stream",
     "text": [
      "[8, 0, 5, 6]\n"
     ]
    }
   ],
   "source": [
    "li = [5,6,5,8,0]\n",
    "li = list(set(li))\n",
    "print(li)"
   ]
  },
  {
   "cell_type": "markdown",
   "metadata": {},
   "source": [
    "### 07) WAP to find unique words in the given string."
   ]
  },
  {
   "cell_type": "code",
   "execution_count": 123,
   "metadata": {},
   "outputs": [
    {
     "name": "stdout",
     "output_type": "stream",
     "text": [
      "{'th', 'aabbcc', 'fgh'}\n"
     ]
    }
   ],
   "source": [
    "stri = \"aabbcc th fgh th\"\n",
    "st = set(stri.split(\" \"))\n",
    "print(st)"
   ]
  },
  {
   "cell_type": "markdown",
   "metadata": {},
   "source": [
    "### 08) WAP to remove common elements of set A & B from set A."
   ]
  },
  {
   "cell_type": "code",
   "execution_count": 126,
   "metadata": {},
   "outputs": [
    {
     "name": "stdout",
     "output_type": "stream",
     "text": [
      "{0, 2, 4}\n"
     ]
    }
   ],
   "source": [
    "st1 = {0,7,2,5,4}\n",
    "st2 = {5,6,7,8,9}\n",
    "print(st1-st2)"
   ]
  },
  {
   "cell_type": "markdown",
   "metadata": {},
   "source": [
    "### 09) WAP to check whether two given strings are anagram or not using set."
   ]
  },
  {
   "cell_type": "code",
   "execution_count": 191,
   "metadata": {},
   "outputs": [
    {
     "name": "stdout",
     "output_type": "stream",
     "text": [
      "Not anagram\n"
     ]
    }
   ],
   "source": [
    "str1 = 'abc'\n",
    "str2 = 'ab'\n",
    "char_count = {}\n",
    "for char in str1:\n",
    "        if char in char_count:\n",
    "            char_count[char] += 1\n",
    "        else:\n",
    "            char_count[char] = 1\n",
    "for char in str2:\n",
    "        if char in char_count:\n",
    "            char_count[char] -= 1\n",
    "            if char_count[char] == 0:\n",
    "                char_count.pop(char)\n",
    "        else:\n",
    "            print('Not anagram')\n",
    "            break\n",
    "else:\n",
    "    if(char_count=={}):\n",
    "        print('anagram')\n",
    "    else:\n",
    "        print('Not anagram')"
   ]
  },
  {
   "cell_type": "markdown",
   "metadata": {},
   "source": [
    "### 10) WAP to find common elements in three lists using set."
   ]
  },
  {
   "cell_type": "code",
   "execution_count": 148,
   "metadata": {},
   "outputs": [
    {
     "name": "stdout",
     "output_type": "stream",
     "text": [
      "{3}\n"
     ]
    }
   ],
   "source": [
    "l1,l2,l3 = [1,2,3],[3,4,5],[3,4,5,6]\n",
    "s1,s2,s3 = set(l1),set(l2),set(l3)\n",
    "print((s1&s2)&s3)"
   ]
  },
  {
   "cell_type": "markdown",
   "metadata": {},
   "source": [
    "### 11) WAP to count number of vowels in given string using set."
   ]
  },
  {
   "cell_type": "code",
   "execution_count": 164,
   "metadata": {},
   "outputs": [
    {
     "name": "stdout",
     "output_type": "stream",
     "text": [
      "7\n"
     ]
    }
   ],
   "source": [
    "vowels = {'a','e','i','o','u'}\n",
    "stri = 'My name is Morad Jevin'\n",
    "count = 0\n",
    "for c in stri:\n",
    "    if c in vowels:\n",
    "        count+=1\n",
    "print(count)"
   ]
  },
  {
   "cell_type": "markdown",
   "metadata": {},
   "source": [
    "### 12) WAP to check if a given string is binary string or not."
   ]
  },
  {
   "cell_type": "code",
   "execution_count": 178,
   "metadata": {},
   "outputs": [
    {
     "name": "stdout",
     "output_type": "stream",
     "text": [
      "isBinaryString = True\n"
     ]
    }
   ],
   "source": [
    "binary = {'1','0'}\n",
    "stri = '10101111'\n",
    "print(f\"isBinaryString = {binary == set(stri) or set(stri) == {'0'} or set(stri) == {'1'}}\")"
   ]
  },
  {
   "cell_type": "markdown",
   "metadata": {},
   "source": [
    "### 13) WAP to sort dictionary by key or value."
   ]
  },
  {
   "cell_type": "code",
   "execution_count": 183,
   "metadata": {},
   "outputs": [
    {
     "name": "stdout",
     "output_type": "stream",
     "text": [
      "{1: 10, 2: 9, 3: 15}\n"
     ]
    }
   ],
   "source": [
    "dit = {1: 10, 2: 9, 3: 15}\n",
    "\n",
    "keys = list(dit.keys())\n",
    "keys.sort()\n",
    "\n",
    "sd = {i: dit[i] for i in keys}\n",
    "print(sd)"
   ]
  },
  {
   "cell_type": "markdown",
   "metadata": {},
   "source": [
    "### 14) WAP to find the sum of all items (values) in a dictionary given by user. (Assume: values are numeric)"
   ]
  },
  {
   "cell_type": "code",
   "execution_count": 184,
   "metadata": {},
   "outputs": [
    {
     "name": "stdout",
     "output_type": "stream",
     "text": [
      "34\n"
     ]
    }
   ],
   "source": [
    "dit = {1: 10, 2: 9, 3: 15}\n",
    "sum = 0\n",
    "for i in dit:\n",
    "    sum+=dit[i]\n",
    "print(sum)"
   ]
  },
  {
   "cell_type": "markdown",
   "metadata": {},
   "source": [
    "### 15) WAP to handle missing keys in dictionaries.\n",
    "#### Example : Given, dict1 = {'a': 5, 'c': 8, 'e': 2} \n",
    "#### if you look for key = 'd', the message given should be 'Key Not Found', otherwise print the value of 'd' in dict1."
   ]
  },
  {
   "cell_type": "code",
   "execution_count": 186,
   "metadata": {},
   "outputs": [
    {
     "name": "stdout",
     "output_type": "stream",
     "text": [
      "Enter char : d\n",
      "Key Not Found\n"
     ]
    }
   ],
   "source": [
    "dit = {'a': 5, 'c': 8, 'e': 2}\n",
    "ch = input(\"Enter char : \")\n",
    "if(ch in dit):\n",
    "    print(dit[ch])\n",
    "else:\n",
    "    print('Key Not Found')"
   ]
  }
 ],
 "metadata": {
  "kernelspec": {
   "display_name": "Python 3 (ipykernel)",
   "language": "python",
   "name": "python3"
  },
  "language_info": {
   "codemirror_mode": {
    "name": "ipython",
    "version": 3
   },
   "file_extension": ".py",
   "mimetype": "text/x-python",
   "name": "python",
   "nbconvert_exporter": "python",
   "pygments_lexer": "ipython3",
   "version": "3.10.9"
  }
 },
 "nbformat": 4,
 "nbformat_minor": 4
}
