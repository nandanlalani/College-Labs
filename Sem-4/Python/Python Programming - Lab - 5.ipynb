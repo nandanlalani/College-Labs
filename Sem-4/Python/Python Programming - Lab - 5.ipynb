{
 "cells": [
  {
   "cell_type": "markdown",
   "metadata": {},
   "source": [
    "\n",
    "<a href='https://www.darshan.ac.in/'> <img src='https://www.darshan.ac.in/Content/media/DU_Logo.svg' width=\"250\" height=\"300\"/></a>\n",
    "<pre>\n",
    "<center><b><h1>Python Programming - 2301CS404</b></center>\n",
    "<center><b><h1>Lab - 5</b></center>    \n",
    "<pre>"
   ]
  },
  {
   "cell_type": "markdown",
   "metadata": {},
   "source": [
    "# List"
   ]
  },
  {
   "cell_type": "markdown",
   "metadata": {},
   "source": [
    "### 01) WAP to find sum of all the elements in a List."
   ]
  },
  {
   "cell_type": "code",
   "execution_count": 1,
   "metadata": {},
   "outputs": [
    {
     "name": "stdout",
     "output_type": "stream",
     "text": [
      "sum of [1, 2, 3, 4, 5, 6, 7, 8, 9, 10] = 55\n"
     ]
    }
   ],
   "source": [
    "list = [1,2,3,4,5,6,7,8,9,10]\n",
    "sum = 0\n",
    "for i in list:\n",
    "    sum+=i\n",
    "print(f\"sum of {list} = {sum}\")"
   ]
  },
  {
   "cell_type": "markdown",
   "metadata": {},
   "source": [
    "### 02) WAP to find largest element in a List."
   ]
  },
  {
   "cell_type": "code",
   "execution_count": 2,
   "metadata": {},
   "outputs": [
    {
     "name": "stdout",
     "output_type": "stream",
     "text": [
      "max in [1, 3, 5, 8, 6, 10, 9, 2] is 10\n"
     ]
    }
   ],
   "source": [
    "list = [1,3,5,8,6,10,9,2]\n",
    "print(f\"max in {list} is {max(list)}\")"
   ]
  },
  {
   "cell_type": "markdown",
   "metadata": {},
   "source": [
    "### 03) WAP to find the length of a List."
   ]
  },
  {
   "cell_type": "code",
   "execution_count": 5,
   "metadata": {},
   "outputs": [
    {
     "name": "stdout",
     "output_type": "stream",
     "text": [
      "length of [1, 3, 5, 8, 6, 10, 9, 2] is 8\n"
     ]
    }
   ],
   "source": [
    "list = [1,3,5,8,6,10,9,2]\n",
    "print(f\"length of {list} is {len(list)}\")"
   ]
  },
  {
   "cell_type": "markdown",
   "metadata": {},
   "source": [
    "### 04) WAP to interchange first and last elements in a list."
   ]
  },
  {
   "cell_type": "code",
   "execution_count": 28,
   "metadata": {},
   "outputs": [
    {
     "name": "stdout",
     "output_type": "stream",
     "text": [
      "Before : [1, 3, 5, 8, 6, 10, 9, 2]\n",
      "After : [2, 3, 5, 8, 6, 10, 9, 1]\n"
     ]
    }
   ],
   "source": [
    "list = [1,3,5,8,6,10,9,2]\n",
    "first,last = list[0],list[-1]\n",
    "print(f\"Before : {list}\")\n",
    "list[0],list[-1] = last,first\n",
    "print(f\"After : {list}\")"
   ]
  },
  {
   "cell_type": "markdown",
   "metadata": {},
   "source": [
    "### 05) WAP to split the List into two parts and append the first part to the end."
   ]
  },
  {
   "cell_type": "code",
   "execution_count": 21,
   "metadata": {},
   "outputs": [
    {
     "name": "stdout",
     "output_type": "stream",
     "text": [
      "Before : [1, 3, 5, 8, 6, 10, 9, 2]\n",
      "After : [6, 10, 9, 2, 1, 3, 5, 8]\n"
     ]
    }
   ],
   "source": [
    "list = [1,3,5,8,6,10,9,2]\n",
    "print(f\"Before : {list}\")\n",
    "firstHalf = list[:len(list)//2]\n",
    "list = list[len(list)//2:]\n",
    "list.extend(firstHalf)\n",
    "print(f\"After : {list}\")"
   ]
  },
  {
   "cell_type": "markdown",
   "metadata": {},
   "source": [
    "### 06) WAP to interchange the elements on two positions entered by a user."
   ]
  },
  {
   "cell_type": "code",
   "execution_count": 30,
   "metadata": {},
   "outputs": [
    {
     "name": "stdout",
     "output_type": "stream",
     "text": [
      "Enter position 1: 5\n",
      "Enter position 2: 1\n",
      "Before : [1, 3, 5, 8, 6, 10, 9, 2]\n",
      "After : [1, 10, 5, 8, 6, 3, 9, 2]\n"
     ]
    }
   ],
   "source": [
    "list = [1,3,5,8,6,10,9,2]\n",
    "p1 = int(input(\"Enter position 1: \"))\n",
    "p2 = int(input(\"Enter position 2: \"))\n",
    "n = len(list)\n",
    "print(f\"Before : {list}\")\n",
    "if(p1<n and p2<n):\n",
    "    list[p1],list[p2] = list[p2],list[p1]\n",
    "print(f\"After : {list}\")"
   ]
  },
  {
   "cell_type": "markdown",
   "metadata": {},
   "source": [
    "### 07) WAP to reverse the list entered by user."
   ]
  },
  {
   "cell_type": "code",
   "execution_count": 32,
   "metadata": {},
   "outputs": [
    {
     "name": "stdout",
     "output_type": "stream",
     "text": [
      "Original : [1, 3, 5, 8, 6, 10, 9, 2]\n",
      "Reverse : [2, 9, 10, 6, 8, 5, 3, 1]\n"
     ]
    }
   ],
   "source": [
    "list = [1,3,5,8,6,10,9,2]\n",
    "print(f\"Original : {list}\")\n",
    "list.reverse()\n",
    "print(f\"Reverse : {list}\")"
   ]
  },
  {
   "cell_type": "markdown",
   "metadata": {},
   "source": [
    "### 08) WAP to print even numbers in a list."
   ]
  },
  {
   "cell_type": "code",
   "execution_count": 42,
   "metadata": {},
   "outputs": [
    {
     "name": "stdout",
     "output_type": "stream",
     "text": [
      "[8, 6, 10, 2]\n"
     ]
    }
   ],
   "source": [
    "list = [1,3,5,8,6,10,9,2]\n",
    "print([i for i in list if(i%2==0)])"
   ]
  },
  {
   "cell_type": "markdown",
   "metadata": {},
   "source": [
    "### 09) WAP to count unique items in a list."
   ]
  },
  {
   "cell_type": "code",
   "execution_count": 45,
   "metadata": {},
   "outputs": [
    {
     "name": "stdout",
     "output_type": "stream",
     "text": [
      "There are 3 unique elements in [1, 3, 5, 1, 3, 10, 2, 1]\n",
      "{10, 2, 5}\n"
     ]
    }
   ],
   "source": [
    "list = [1,3,5,1,3,10,2,1]\n",
    "u = set()\n",
    "count = 0\n",
    "for i in list:\n",
    "    if(list.count(i)==1):\n",
    "        count+=1\n",
    "        u.add(i)\n",
    "print(f\"There are {count} unique elements in {list}\\n{u}\")"
   ]
  },
  {
   "cell_type": "markdown",
   "metadata": {},
   "source": [
    "### 10) WAP to copy a list."
   ]
  },
  {
   "cell_type": "code",
   "execution_count": 41,
   "metadata": {},
   "outputs": [
    {
     "name": "stdout",
     "output_type": "stream",
     "text": [
      "list1 : [1, 3, 5, 1, 3, 10, 2, 1]\n",
      "list2 : [1, 3, 5, 1, 3, 10, 2, 1]\n"
     ]
    }
   ],
   "source": [
    "list1 = [1,3,5,1,3,10,2,1]\n",
    "list2 = list1.copy()\n",
    "print(f\"list1 : {list1}\\nlist2 : {list2}\")"
   ]
  },
  {
   "cell_type": "markdown",
   "metadata": {},
   "source": [
    "### 11) WAP to print all odd numbers in a given range."
   ]
  },
  {
   "cell_type": "code",
   "execution_count": 49,
   "metadata": {},
   "outputs": [
    {
     "name": "stdout",
     "output_type": "stream",
     "text": [
      "Enter start : 2\n",
      "Enter start : 10\n",
      "[3, 5, 7, 9]\n"
     ]
    }
   ],
   "source": [
    "start = int(input(\"Enter start : \"))\n",
    "end = int(input(\"Enter start : \"))\n",
    "print([i for i in range(start,end) if i%2!=0])"
   ]
  },
  {
   "cell_type": "markdown",
   "metadata": {},
   "source": [
    "### 12) WAP to count occurrences of an element in a list."
   ]
  },
  {
   "cell_type": "code",
   "execution_count": 48,
   "metadata": {},
   "outputs": [
    {
     "name": "stdout",
     "output_type": "stream",
     "text": [
      "{1: 3, 3: 2, 5: 1, 10: 1, 2: 1}\n"
     ]
    }
   ],
   "source": [
    "list = [1,3,5,1,3,10,2,1]\n",
    "dict = {}\n",
    "for i in list:\n",
    "    if(dict.get(i,-1)==-1):\n",
    "        dict[i]=1\n",
    "    else:\n",
    "        dict[i]+=1\n",
    "        \n",
    "print(dict)"
   ]
  },
  {
   "cell_type": "markdown",
   "metadata": {},
   "source": [
    "### 13) WAP to find second largest number in a list."
   ]
  },
  {
   "cell_type": "code",
   "execution_count": 50,
   "metadata": {},
   "outputs": [
    {
     "name": "stdout",
     "output_type": "stream",
     "text": [
      "second largest in [1, 3, 9, 1, 3, 2, 1] is 9\n"
     ]
    }
   ],
   "source": [
    "list = [1,3,9,1,3,10,2,1]\n",
    "list.remove(max(list))\n",
    "print(f\"second largest in {list} is {max(list)}\")"
   ]
  },
  {
   "cell_type": "markdown",
   "metadata": {},
   "source": [
    "### 14) WAP to extract elements with frequency greater than K."
   ]
  },
  {
   "cell_type": "code",
   "execution_count": 52,
   "metadata": {},
   "outputs": [
    {
     "name": "stdout",
     "output_type": "stream",
     "text": [
      "Enter k : 2\n",
      "elements more then 2 freq in [1, 3, 9, 1, 3, 10, 2, 1, 2, 3, 4, 6, 1, 2, 8] are [1, 3, 2]\n"
     ]
    }
   ],
   "source": [
    "list = [1,3,9,1,3,10,2,1,2,3,4,6,1,2,8]\n",
    "k = int(input(\"Enter k : \"))\n",
    "dict = {}\n",
    "for i in list:\n",
    "    if(dict.get(i,-1)==-1):\n",
    "        dict[i]=1\n",
    "    else:\n",
    "        dict[i]+=1\n",
    "elem = []\n",
    "for i in dict:\n",
    "    if(dict[i]>k):\n",
    "        elem.append(i)\n",
    "print(f\"elements more then {k} freq in {list} are {elem}\")"
   ]
  },
  {
   "cell_type": "markdown",
   "metadata": {},
   "source": [
    "### 15) WAP to create a list of squared numbers from 0 to 9 with and without using List Comprehension."
   ]
  },
  {
   "cell_type": "code",
   "execution_count": 53,
   "metadata": {},
   "outputs": [
    {
     "name": "stdout",
     "output_type": "stream",
     "text": [
      "[0, 1, 4, 9, 16, 25, 36, 49, 64, 81]\n"
     ]
    }
   ],
   "source": [
    "list = []\n",
    "for i in range(0,10):\n",
    "    list.append(i**2)\n",
    "print(list)"
   ]
  },
  {
   "cell_type": "markdown",
   "metadata": {},
   "source": [
    "### 16) WAP to create a new list (fruit whose name starts with 'b') from the list of fruits given by user."
   ]
  },
  {
   "cell_type": "code",
   "execution_count": 64,
   "metadata": {},
   "outputs": [
    {
     "name": "stdout",
     "output_type": "stream",
     "text": [
      "['Banana', 'Babaco', 'Balsam apple']\n"
     ]
    }
   ],
   "source": [
    "list = ['Banana','Babaco','Balsam apple','Orange','Sapodila']\n",
    "fruit = [i for i in list if i[0]=='B']\n",
    "print(fruit)"
   ]
  },
  {
   "cell_type": "markdown",
   "metadata": {},
   "source": [
    "### 17) WAP to create a list of common elements from given two lists."
   ]
  },
  {
   "cell_type": "code",
   "execution_count": 70,
   "metadata": {},
   "outputs": [
    {
     "name": "stdout",
     "output_type": "stream",
     "text": [
      "[2, 3, 6]\n"
     ]
    }
   ],
   "source": [
    "list1 = [1,2,3,4,5,6]\n",
    "list2 = [2,3,6,7,9,8]\n",
    "\n",
    "commonElem = list(set(list1) & set(list2))\n",
    "print(commonElem)"
   ]
  }
 ],
 "metadata": {
  "kernelspec": {
   "display_name": "Python 3 (ipykernel)",
   "language": "python",
   "name": "python3"
  },
  "language_info": {
   "codemirror_mode": {
    "name": "ipython",
    "version": 3
   },
   "file_extension": ".py",
   "mimetype": "text/x-python",
   "name": "python",
   "nbconvert_exporter": "python",
   "pygments_lexer": "ipython3",
   "version": "3.10.9"
  }
 },
 "nbformat": 4,
 "nbformat_minor": 4
}
