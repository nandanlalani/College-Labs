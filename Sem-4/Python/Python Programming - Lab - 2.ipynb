{
 "cells": [
  {
   "cell_type": "markdown",
   "metadata": {},
   "source": [
    "\n",
    "<a href='https://www.darshan.ac.in/'> <img src='https://www.darshan.ac.in/Content/media/DU_Logo.svg' width=\"250\" height=\"300\"/></a>\n",
    "<pre>\n",
    "<center><b><h1>Python Programming - 2301CS404</b></center>\n",
    "<center><b><h1>Lab - 2</b></center>    \n",
    "<pre>"
   ]
  },
  {
   "cell_type": "markdown",
   "metadata": {},
   "source": [
    "# if..else.."
   ]
  },
  {
   "cell_type": "markdown",
   "metadata": {},
   "source": [
    "### 01) WAP to check whether the given number is positive or negative."
   ]
  },
  {
   "cell_type": "code",
   "execution_count": 2,
   "metadata": {},
   "outputs": [
    {
     "name": "stdout",
     "output_type": "stream",
     "text": [
      "Enter a number : 2\n",
      "Positive\n"
     ]
    }
   ],
   "source": [
    "n = int(input(\"Enter a number : \"))\n",
    "if(n>0):\n",
    "    print(\"Positive\")\n",
    "elif(n<0):\n",
    "    print(\"Negative\")\n",
    "else:\n",
    "    print(\"Zero\")"
   ]
  },
  {
   "cell_type": "markdown",
   "metadata": {},
   "source": [
    "### 02) WAP to check whether the given number is odd or even."
   ]
  },
  {
   "cell_type": "code",
   "execution_count": 3,
   "metadata": {},
   "outputs": [
    {
     "name": "stdout",
     "output_type": "stream",
     "text": [
      "Enter a number : 5\n",
      "Odd\n"
     ]
    }
   ],
   "source": [
    "n = int(input(\"Enter a number : \"))\n",
    "if(n%2==0):\n",
    "    print(\"Even\")\n",
    "else:\n",
    "    print(\"Odd\")"
   ]
  },
  {
   "cell_type": "markdown",
   "metadata": {},
   "source": [
    "### 03) WAP to find out largest number from given two numbers using simple if and ternary operator."
   ]
  },
  {
   "cell_type": "code",
   "execution_count": 5,
   "metadata": {},
   "outputs": [
    {
     "name": "stdout",
     "output_type": "stream",
     "text": [
      "Enter n1 : 1\n",
      "Enter n2 : 3\n",
      "n2 is greater\n"
     ]
    }
   ],
   "source": [
    "n1 = int(input(\"Enter n1 : \"))\n",
    "n2 = int(input(\"Enter n2 : \"))\n",
    "if(n1>n2):\n",
    "    print(\"n1 is greater\")\n",
    "elif(n1<n2):\n",
    "    print(\"n2 is greater\")\n",
    "else:\n",
    "    print(\"Both are equal\")"
   ]
  },
  {
   "cell_type": "markdown",
   "metadata": {},
   "source": [
    "### 04) WAP to find out largest number from given three numbers."
   ]
  },
  {
   "cell_type": "code",
   "execution_count": 22,
   "metadata": {},
   "outputs": [
    {
     "name": "stdout",
     "output_type": "stream",
     "text": [
      "Enter a : 8\n",
      "Enter b : 2\n",
      "Enter c : 4\n",
      "a is largest\n"
     ]
    }
   ],
   "source": [
    "a = int(input(\"Enter a : \"))\n",
    "b = int(input(\"Enter b : \"))\n",
    "c = int(input(\"Enter c : \"))\n",
    "if(a>b):\n",
    "    if(a>c):\n",
    "        print(\"a is largest\")\n",
    "    else:\n",
    "        print(\"c is largest\")\n",
    "else:\n",
    "    if(b>c):\n",
    "        print(\"b is largest\")\n",
    "    else:\n",
    "        print(\"c is largest\")\n",
    "    "
   ]
  },
  {
   "cell_type": "markdown",
   "metadata": {},
   "source": [
    "### 05) WAP to check whether the given year is leap year or not.\n",
    "[If a year can be divisible by 4 but not divisible by 100 then it is leap year but if it is divisible by 400 then it is leap year]"
   ]
  },
  {
   "cell_type": "code",
   "execution_count": 12,
   "metadata": {},
   "outputs": [
    {
     "name": "stdout",
     "output_type": "stream",
     "text": [
      "Enter year : 2000\n",
      "2000 a is leap year\n"
     ]
    }
   ],
   "source": [
    "y = int(input(\"Enter year : \"))\n",
    "if(y%400==0 or (y%4==0 and y%100!=0)):\n",
    "    print(y, \"a is leap year\")\n",
    "else:\n",
    "    print(y, \"is not a lap year\")"
   ]
  },
  {
   "cell_type": "markdown",
   "metadata": {},
   "source": [
    "### 06) WAP in python to display the name of the day according to the number given by the user."
   ]
  },
  {
   "cell_type": "code",
   "execution_count": 14,
   "metadata": {},
   "outputs": [
    {
     "name": "stdout",
     "output_type": "stream",
     "text": [
      "Enter day number : 2\n",
      "Monday\n"
     ]
    }
   ],
   "source": [
    "d = int(input(\"Enter day number : \"))\n",
    "if(d==1):\n",
    "    print(\"Sunday\")\n",
    "elif(d==2):\n",
    "    print(\"Monday\")\n",
    "elif(d==3):\n",
    "    print(\"Tuesday\")\n",
    "elif(d==4):\n",
    "    print(\"Wenesday\")\n",
    "elif(d==5):\n",
    "    print(\"Thursday\")\n",
    "elif(d==6):\n",
    "    print(\"Friday\")\n",
    "else:\n",
    "    print(\"Saturday\")"
   ]
  },
  {
   "cell_type": "markdown",
   "metadata": {},
   "source": [
    "### 07) WAP to implement simple calculator which performs (add,sub,mul,div) of two no. based on user input."
   ]
  },
  {
   "cell_type": "code",
   "execution_count": 17,
   "metadata": {},
   "outputs": [
    {
     "name": "stdout",
     "output_type": "stream",
     "text": [
      "Enter n1 : 5\n",
      "Enter n2 : 2\n",
      "1. Addition\n",
      "2. Subtraction\n",
      "3. Multiplication\n",
      "4. Division\n",
      "Enter your choice : 4\n",
      "2.5\n"
     ]
    }
   ],
   "source": [
    "n1 = int(input(\"Enter n1 : \"))\n",
    "n2 = int(input(\"Enter n2 : \"))\n",
    "\n",
    "print(\"1. Addition\\n2. Subtraction\\n3. Multiplication\\n4. Division\")\n",
    "choice = int(input(\"Enter your choice : \"))\n",
    "\n",
    "if(choice==1):\n",
    "    print(n1+n2)\n",
    "elif(choice==2):\n",
    "    print(n1-n2)\n",
    "elif(choice==3):\n",
    "    print(n1*n2)\n",
    "elif(choice==4):\n",
    "    print(n1/n2)\n",
    "else:\n",
    "    print(\"Invalid input\")"
   ]
  },
  {
   "cell_type": "markdown",
   "metadata": {},
   "source": [
    "### 08) WAP to read marks of five subjects. Calculate percentage and print class accordingly. \n",
    "Fail below 35 </br>\n",
    "Pass Class between 35 to 45 </br>\n",
    "Second Class</br>\n",
    "between 45 to 60</br>\n",
    "First Class between 60 to 70</br> \n",
    "Distinction if more than 70"
   ]
  },
  {
   "cell_type": "code",
   "execution_count": 19,
   "metadata": {},
   "outputs": [
    {
     "name": "stdout",
     "output_type": "stream",
     "text": [
      "Enter m1 : 50\n",
      "Enter m2 : 50\n",
      "Enter m3 : 50\n",
      "Enter m4 : 50\n",
      "Enter m5 : 50\n",
      "Second Class\n"
     ]
    }
   ],
   "source": [
    "m1 = int(input(\"Enter m1 : \"))\n",
    "m2 = int(input(\"Enter m2 : \"))\n",
    "m3 = int(input(\"Enter m3 : \"))\n",
    "m4 = int(input(\"Enter m4 : \"))\n",
    "m5 = int(input(\"Enter m5 : \"))\n",
    "\n",
    "per = (m1+m2+m3+m4+m5)/5\n",
    "\n",
    "if(per<35):\n",
    "    print(\"Fail below 35\")\n",
    "elif(per<45):\n",
    "    print(\"Pass Class\")\n",
    "elif(per<60):\n",
    "    print(\"Second Class\")\n",
    "elif(per<70):\n",
    "    print(\"First Class\")\n",
    "else:\n",
    "    print(\"More than 70\")"
   ]
  },
  {
   "cell_type": "markdown",
   "metadata": {},
   "source": [
    "### 09) Three sides of a triangle are entered through the keyboard, WAP to check whether the triangle is isosceles, equilateral, scalene or right-angled triangle."
   ]
  },
  {
   "cell_type": "code",
   "execution_count": 21,
   "metadata": {},
   "outputs": [
    {
     "name": "stdout",
     "output_type": "stream",
     "text": [
      "Enter side1 length : 5\n",
      "Enter side2 length : 5\n",
      "Enter side3 length : 5\n",
      "Equilateral triangle\n"
     ]
    }
   ],
   "source": [
    "s1 = float(input(\"Enter side1 length : \"))\n",
    "s2 = float(input(\"Enter side2 length : \"))\n",
    "s3 = float(input(\"Enter side3 length : \"))\n",
    "\n",
    "if(s1==s2 and s2==s3):\n",
    "    print(\"Equilateral triangle\")\n",
    "elif(s1==s2 or s1==s3 or s2==s3):\n",
    "    print(\"Isosceles triangle\")\n",
    "elif(s1!=s2 and s2!=s3):\n",
    "    print(\"Scalene triangle\")\n",
    "else:\n",
    "    print(\"Right-angle triangle\")"
   ]
  },
  {
   "cell_type": "markdown",
   "metadata": {},
   "source": [
    "### 10) WAP to find the second largest number among three user input numbers."
   ]
  },
  {
   "cell_type": "code",
   "execution_count": 31,
   "metadata": {},
   "outputs": [
    {
     "name": "stdout",
     "output_type": "stream",
     "text": [
      "Enter a : 7\n",
      "Enter b : 5\n",
      "Enter c : 6\n",
      "c is second largest\n"
     ]
    }
   ],
   "source": [
    "a = int(input(\"Enter a : \"))\n",
    "b = int(input(\"Enter b : \"))\n",
    "c = int(input(\"Enter c : \"))\n",
    "if(a>b):\n",
    "    if(b>c):\n",
    "        print(\"b is second largest\")\n",
    "    else:\n",
    "        if(a>c):\n",
    "            print(\"c is second largest\")\n",
    "        else:\n",
    "            print(\"a is second largest\")\n",
    "else:\n",
    "    if(a>c):\n",
    "        print(\"a is second greates\")\n",
    "    else:\n",
    "        if(b>c):\n",
    "            print(\"c is second largest\")\n",
    "        else:\n",
    "            print(\"b is second largest\")"
   ]
  },
  {
   "cell_type": "markdown",
   "metadata": {},
   "source": [
    "### 11) WAP to calculate electricity bill based on following criteria. Which takes the unit from the user.\n",
    "a. First 1 to 50 units – Rs. 2.60/unit</br>\n",
    "b. Next 50 to 100 units – Rs. 3.25/unit</br>\n",
    "c. Next 100 to 200 units – Rs. 5.26/unit</br>\n",
    "d. above 200 units – Rs. 8.45/unit"
   ]
  },
  {
   "cell_type": "code",
   "execution_count": null,
   "metadata": {},
   "outputs": [
    {
     "name": "stdout",
     "output_type": "stream",
     "text": [
      "Enter unit : 49\n",
      "Your bill for 49 unit is 127.4\n"
     ]
    }
   ],
   "source": [
    "unit = int(input(\"Enter unit : \"))\n",
    "rs = 0.0\n",
    "\n",
    "if(unit>=1 and unit<50):\n",
    "    rs = unit*2.60\n",
    "elif(unit>=50 and unit<100):\n",
    "    rs = 50*2.60 + (unit-50)*3.25\n",
    "elif(unit>=100 and unit<200):\n",
    "    rs = 50*2.60 + 50*3.25 + (unit-100)*5.26\n",
    "else:\n",
    "    rs = 50*2.60 + 50*3.25 + 100*5.26 + (unit-200)*8.45\n",
    "    \n",
    "print(\"Your bill for\",unit,\"unit is\",rs)"
   ]
  }
 ],
 "metadata": {
  "kernelspec": {
   "display_name": "Python 3 (ipykernel)",
   "language": "python",
   "name": "python3"
  },
  "language_info": {
   "codemirror_mode": {
    "name": "ipython",
    "version": 3
   },
   "file_extension": ".py",
   "mimetype": "text/x-python",
   "name": "python",
   "nbconvert_exporter": "python",
   "pygments_lexer": "ipython3",
   "version": "3.10.9"
  }
 },
 "nbformat": 4,
 "nbformat_minor": 4
}
