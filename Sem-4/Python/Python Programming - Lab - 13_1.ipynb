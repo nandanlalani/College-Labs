{
 "cells": [
  {
   "cell_type": "markdown",
   "metadata": {},
   "source": [
    "<a href='https://www.darshan.ac.in/'> <img src='https://www.darshan.ac.in/Content/media/DU_Logo.svg' width=\"250\" height=\"300\"/></a>\n",
    "<pre>\n",
    "<center><b><h1>Python Programming - 2301CS404</b></center>\n",
    "<center><b><h1>Lab - 13</b></center>    \n",
    "<pre>"
   ]
  },
  {
   "cell_type": "markdown",
   "metadata": {},
   "source": [
    "# OOP"
   ]
  },
  {
   "cell_type": "markdown",
   "metadata": {},
   "source": [
    "### 01) Write a Program to create a class by name Students, and initialize attributes like name, age, and grade while creating an object."
   ]
  },
  {
   "cell_type": "code",
   "execution_count": 7,
   "metadata": {},
   "outputs": [
    {
     "name": "stdout",
     "output_type": "stream",
     "text": [
      "Johndfvafb\n",
      "56\n",
      "B\n",
      "DIET\n"
     ]
    }
   ],
   "source": [
    "class Students:\n",
    "    school = 'DIET'\n",
    "    def __init__(self, name, age, grade):\n",
    "        self.name = name\n",
    "        self.age = age\n",
    "        self.grade = grade\n",
    "        \n",
    "    def printInfo(self):\n",
    "        print(self.name)\n",
    "        print(self.age)\n",
    "        print(self.grade)\n",
    "\n",
    "student1 = Students(\"John\", 16, \"A\")\n",
    "student2 = Students(\"Johndfvafb\", 56, \"B\")\n",
    "student2.printInfo()\n",
    "print(Students.school)"
   ]
  },
  {
   "cell_type": "markdown",
   "metadata": {},
   "source": [
    "### 02) Create a class named Bank_Account with Account_No, User_Name, Email,Account_Type and Account_Balance data members. Also create a method GetAccountDetails() and DisplayAccountDetails(). Create main method to demonstrate the Bank_Account class."
   ]
  },
  {
   "cell_type": "code",
   "execution_count": 24,
   "metadata": {},
   "outputs": [
    {
     "name": "stdout",
     "output_type": "stream",
     "text": [
      "Enter Account no: 564164\n",
      "Enter user name: aerfvaeb\n",
      "enter email: eaba\n",
      "enter account type: erbae\n",
      "enter account_balace: bae\n",
      "\n",
      "Account Details: \n",
      "Account Number:  564164\n",
      "User Name:  aerfvaeb\n",
      "Email: eaba\n",
      "Account Type:  erbae\n",
      "Account Balance:  bae\n"
     ]
    }
   ],
   "source": [
    "class Bank_Account:\n",
    "    def GetAccountDetails(self):\n",
    "        self.Account_No = input(\"Enter Account no: \")\n",
    "        self.User_Name = input(\"Enter user name: \")\n",
    "        self.Email = input(\"enter email: \")\n",
    "        self.Account_Type = input('enter account type: ')\n",
    "        self.Account_Balance = input('enter account_balace: ')\n",
    "    \n",
    "    def DisplayAccountDetails(self):\n",
    "        print()\n",
    "        print(\"Account Details: \")\n",
    "        print(f\"Account Number: \",self.Account_No)\n",
    "        print(f\"User Name: \",self.User_Name)\n",
    "        print(f\"Email:\",self.Email)\n",
    "        print(f\"Account Type: \",self.Account_Type)\n",
    "        print(f\"Account Balance: \",self.Account_Balance)\n",
    "        \n",
    "ac = Bank_Account()\n",
    "ac.GetAccountDetails()\n",
    "ac.DisplayAccountDetails()"
   ]
  },
  {
   "cell_type": "markdown",
   "metadata": {},
   "source": [
    "### 03) WAP to create Circle class with area and perimeter function to find area and perimeter of circle."
   ]
  },
  {
   "cell_type": "code",
   "execution_count": 36,
   "metadata": {},
   "outputs": [
    {
     "name": "stdout",
     "output_type": "stream",
     "text": [
      "perimeter:  62.83185307179586\n",
      "area:  314.1592653589793\n"
     ]
    }
   ],
   "source": [
    "import math\n",
    "class Circle:\n",
    "    def __init__(self,radius):\n",
    "        self.radius = radius\n",
    "        \n",
    "    def perimeter(self):\n",
    "        peri = 2*math.pi*self.radius\n",
    "        print(\"perimeter: \",peri)\n",
    "    def area(self):\n",
    "        area = math.pi*math.pow(self.radius,2)\n",
    "        print(\"area: \",area)\n",
    "\n",
    "ac = Circle(10)\n",
    "ac.perimeter()\n",
    "ac.area()\n",
    "        "
   ]
  },
  {
   "cell_type": "markdown",
   "metadata": {},
   "source": [
    "### 04) Create a class for employees that includes attributes such as name, age, salary, and methods to update and display employee information."
   ]
  },
  {
   "cell_type": "code",
   "execution_count": 40,
   "metadata": {},
   "outputs": [
    {
     "name": "stdout",
     "output_type": "stream",
     "text": [
      "Employee Information:\n",
      "Name: John Smith\n",
      "Age: 30\n",
      "Salary: 50000\n",
      "\n",
      "Updated Employee Information:\n",
      "Employee Information:\n",
      "Name: John A. Smith\n",
      "Age: 31\n",
      "Salary: 55000\n"
     ]
    }
   ],
   "source": [
    "class Employee:\n",
    "    def __init__(self, name, age, salary):\n",
    "        self.name = name\n",
    "        self.age = age\n",
    "        self.salary = salary\n",
    "    \n",
    "    def update_salary(self, new_salary):\n",
    "        self.salary = new_salary\n",
    "    \n",
    "    def update_age(self, new_age):\n",
    "        self.age = new_age\n",
    "    \n",
    "    def update_name(self, new_name):\n",
    "        self.name = new_name\n",
    "    \n",
    "    def display_employee_info(self):\n",
    "        print(\"Employee Information:\")\n",
    "        print(f\"Name: {self.name}\")\n",
    "        print(f\"Age: {self.age}\")\n",
    "        print(f\"Salary: {self.salary}\")\n",
    "        \n",
    "employee1 = Employee(\"John Smith\", 30, 50000)\n",
    "employee1.display_employee_info()\n",
    "\n",
    "employee1.update_salary(55000)\n",
    "employee1.update_age(31)\n",
    "employee1.update_name(\"John A. Smith\")\n",
    "    \n",
    "print(\"\\nUpdated Employee Information:\")\n",
    "employee1.display_employee_info()"
   ]
  },
  {
   "cell_type": "markdown",
   "metadata": {},
   "source": [
    "### 05) Create a bank account class with methods to deposit, withdraw, and check balance."
   ]
  },
  {
   "cell_type": "code",
   "execution_count": 49,
   "metadata": {},
   "outputs": [
    {
     "name": "stdout",
     "output_type": "stream",
     "text": [
      "insufficient balance\n",
      "Balance:  5\n",
      "withdraw success\n",
      "Balance:  5\n",
      "deposit unsuccess\n",
      "Balance:  10005\n",
      "deposit success\n",
      "Balance:  10005\n"
     ]
    }
   ],
   "source": [
    "class bank:\n",
    "    def __init__(self,bal):\n",
    "        self.bal = bal\n",
    "    def withdraw(self,wit):\n",
    "        if (self.bal - wit) >= 0:\n",
    "            self.bal -= wit\n",
    "            print(\"Balance: \",self.bal)\n",
    "            print('withdraw success')\n",
    "        else:\n",
    "            print('insufficient balance')\n",
    "    def deposit(self,depo):\n",
    "        if (self.bal + depo) >= 0:\n",
    "            self.bal += depo\n",
    "            print(\"Balance: \",self.bal)\n",
    "            print(\"deposit success\")\n",
    "           \n",
    "        else:\n",
    "            print('deposit unsuccess')\n",
    "    def check_balance(self):\n",
    "        print(\"Balance: \",self.bal)\n",
    "a1 = bank(10)\n",
    "a1.withdraw(12)\n",
    "a1.withdraw(5)\n",
    "a1.check_balance()\n",
    "a1.deposit(-12)\n",
    "a1.deposit(10000)\n",
    "a1.check_balance()\n",
    "\n",
    "        "
   ]
  },
  {
   "cell_type": "markdown",
   "metadata": {},
   "source": [
    "### 06) Create a class for managing inventory that includes attributes such as item name, price, quantity, and methods to add, remove, and update items."
   ]
  },
  {
   "cell_type": "code",
   "execution_count": 51,
   "metadata": {},
   "outputs": [
    {
     "name": "stdout",
     "output_type": "stream",
     "text": [
      "Laptop added to inventory.\n",
      "Smartphone added to inventory.\n",
      "Keyboard added to inventory.\n",
      "\n",
      "Initial Inventory:\n",
      "Inventory Details:\n",
      "Item Name: Laptop\n",
      "Price: 1000\n",
      "Quantity: 10\n",
      "Item Name: Smartphone\n",
      "Price: 500\n",
      "Quantity: 20\n",
      "Item Name: Keyboard\n",
      "Price: 50\n",
      "Quantity: 15\n",
      "Laptop updated in inventory.\n",
      "Smartphone removed from inventory.\n",
      "\n",
      "Updated Inventory:\n",
      "Inventory Details:\n",
      "Item Name: Laptop\n",
      "Price: 950\n",
      "Quantity: 12\n",
      "Item Name: Keyboard\n",
      "Price: 50\n",
      "Quantity: 15\n"
     ]
    }
   ],
   "source": [
    "class InventoryItem:\n",
    "    def __init__(self, item_name, price, quantity):\n",
    "        self.item_name = item_name\n",
    "        self.price = price\n",
    "        self.quantity = quantity\n",
    "\n",
    "    def update_price(self, new_price):\n",
    "        self.price = new_price\n",
    "\n",
    "    def update_quantity(self, new_quantity):\n",
    "        self.quantity = new_quantity\n",
    "\n",
    "    def display_item_info(self):\n",
    "        print(f\"Item Name: {self.item_name}\")\n",
    "        print(f\"Price: {self.price}\")\n",
    "        print(f\"Quantity: {self.quantity}\")\n",
    "\n",
    "\n",
    "class Inventory:\n",
    "    def __init__(self):\n",
    "        self.items = {}\n",
    "\n",
    "    def add_item(self, item_name, price, quantity):\n",
    "        if item_name in self.items:\n",
    "            print(f\"{item_name} already exists in inventory.\")\n",
    "        else:\n",
    "            self.items[item_name] = InventoryItem(item_name, price, quantity)\n",
    "            print(f\"{item_name} added to inventory.\")\n",
    "\n",
    "    def remove_item(self, item_name):\n",
    "        if item_name in self.items:\n",
    "            del self.items[item_name]\n",
    "            print(f\"{item_name} removed from inventory.\")\n",
    "        else:\n",
    "            print(f\"{item_name} not found in inventory.\")\n",
    "\n",
    "    def update_item(self, item_name, price=None, quantity=None):\n",
    "        if item_name in self.items:\n",
    "            if price is not None:\n",
    "                self.items[item_name].update_price(price)\n",
    "            if quantity is not None:\n",
    "                self.items[item_name].update_quantity(quantity)\n",
    "            print(f\"{item_name} updated in inventory.\")\n",
    "        else:\n",
    "            print(f\"{item_name} not found in inventory.\")\n",
    "\n",
    "    def display_inventory(self):\n",
    "        if not self.items:\n",
    "            print(\"Inventory is empty.\")\n",
    "        else:\n",
    "            print(\"Inventory Details:\")\n",
    "            for item_name, item in self.items.items():\n",
    "                item.display_item_info()\n",
    "\n",
    "\n",
    "\n",
    "inventory = Inventory()\n",
    "\n",
    "inventory.add_item(\"Laptop\", 1000, 10)\n",
    "inventory.add_item(\"Smartphone\", 500, 20)\n",
    "inventory.add_item(\"Keyboard\", 50, 15)\n",
    "\n",
    "print(\"\\nInitial Inventory:\")\n",
    "inventory.display_inventory()\n",
    "\n",
    "inventory.update_item(\"Laptop\", price=950, quantity=12)\n",
    "inventory.remove_item(\"Smartphone\")\n",
    "\n",
    "print(\"\\nUpdated Inventory:\")\n",
    "inventory.display_inventory()\n"
   ]
  },
  {
   "cell_type": "markdown",
   "metadata": {},
   "source": [
    "### 07) Create a Class with instance attributes of your choice."
   ]
  },
  {
   "cell_type": "code",
   "execution_count": 52,
   "metadata": {},
   "outputs": [
    {
     "name": "stdout",
     "output_type": "stream",
     "text": [
      "Car Details: 2021 Toyota Camry, Color: Red\n",
      "The engine of the 2021 Toyota Camry is now running.\n",
      "The engine of the 2021 Toyota Camry is now off.\n"
     ]
    }
   ],
   "source": [
    "class Car:\n",
    "    def __init__(self, make, model, year, color):\n",
    "        self.make = make\n",
    "        self.model = model\n",
    "        self.year = year\n",
    "        self.color = color\n",
    "\n",
    "    def start_engine(self):\n",
    "        print(f\"The engine of the {self.year} {self.make} {self.model} is now running.\")\n",
    "\n",
    "    def stop_engine(self):\n",
    "        print(f\"The engine of the {self.year} {self.make} {self.model} is now off.\")\n",
    "    \n",
    "    def display_car_info(self):\n",
    "        print(f\"Car Details: {self.year} {self.make} {self.model}, Color: {self.color}\")\n",
    "\n",
    "\n",
    "\n",
    "car1 = Car(\"Toyota\", \"Camry\", 2021, \"Red\")\n",
    "car1.display_car_info()\n",
    "car1.start_engine()\n",
    "car1.stop_engine()\n"
   ]
  },
  {
   "cell_type": "markdown",
   "metadata": {},
   "source": [
    "### 08) Create one class student_kit\n",
    "#### Within the student_kit class create one class attribute principal name ( Mr ABC )\n",
    "#### Create one attendance method and take input as number of days.\n",
    "#### While creating student take input their name .\n",
    "#### Create one certificate for each student by taking input of number of days present in class."
   ]
  },
  {
   "cell_type": "code",
   "execution_count": 53,
   "metadata": {},
   "outputs": [
    {
     "name": "stdout",
     "output_type": "stream",
     "text": [
      "Enter the student's name: Nandan\n",
      "Enter the total number of school days: 250\n",
      "Enter the number of days the student was present: 249\n",
      "\n",
      "Certificate for Nandan:\n",
      "Principal: Mr ABC\n",
      "Total Days: 250\n",
      "Days Present: 249\n",
      "Attendance Percentage: 99.6%\n",
      "Certificate: Awarded for good attendance!\n"
     ]
    }
   ],
   "source": [
    "class Student_Kit:\n",
    "    principal_name = \"Mr ABC\"\n",
    "    \n",
    "    def __init__(self, student_name):\n",
    "        self.student_name = student_name\n",
    "    \n",
    "    def attendance(self, total_days, present_days):\n",
    "        attendance_percentage = (present_days / total_days) * 100\n",
    "        return attendance_percentage\n",
    "    \n",
    "    def generate_certificate(self, total_days, present_days):\n",
    "        attendance_percentage = self.attendance(total_days, present_days)\n",
    "        print(f\"\\nCertificate for {self.student_name}:\")\n",
    "        print(f\"Principal: {Student_Kit.principal_name}\")\n",
    "        print(f\"Total Days: {total_days}\")\n",
    "        print(f\"Days Present: {present_days}\")\n",
    "        print(f\"Attendance Percentage: {attendance_percentage}%\")\n",
    "        \n",
    "        if attendance_percentage >= 75:\n",
    "            print(\"Certificate: Awarded for good attendance!\")\n",
    "        else:\n",
    "            print(\"Certificate: Attendance needs improvement!\")\n",
    "    \n",
    "\n",
    "\n",
    "student_name = input(\"Enter the student's name: \")\n",
    "student = Student_Kit(student_name)\n",
    "    \n",
    "total_days = int(input(\"Enter the total number of school days: \"))\n",
    "present_days = int(input(\"Enter the number of days the student was present: \"))\n",
    "    \n",
    "student.generate_certificate(total_days, present_days)\n"
   ]
  },
  {
   "cell_type": "markdown",
   "metadata": {},
   "source": [
    "### 09) Define Time class with hour and minute as data member. Also define addition method to add two time objects."
   ]
  },
  {
   "cell_type": "code",
   "execution_count": 54,
   "metadata": {},
   "outputs": [
    {
     "name": "stdout",
     "output_type": "stream",
     "text": [
      "Time 1: 2 hours and 45 minutes\n",
      "Time 2: 3 hours and 30 minutes\n",
      "After addition: 6 hours and 15 minutes\n"
     ]
    }
   ],
   "source": [
    "class Time:\n",
    "    def __init__(self, hour, minute):\n",
    "        self.hour = hour\n",
    "        self.minute = minute\n",
    "    \n",
    "    def addition(self, other_time):\n",
    "        total_minutes = self.minute + other_time.minute\n",
    "        total_hours = self.hour + other_time.hour\n",
    "        if total_minutes >= 60:\n",
    "            total_minutes -= 60\n",
    "            total_hours += 1\n",
    "        \n",
    "        return Time(total_hours, total_minutes)\n",
    "    \n",
    "    def display_time(self):\n",
    "        print(f\"{self.hour} hours and {self.minute} minutes\")\n",
    "        \n",
    "\n",
    "time1 = Time(2, 45)\n",
    "time2 = Time(3, 30)\n",
    "    \n",
    "print(\"Time 1: \", end=\"\")\n",
    "time1.display_time()\n",
    "    \n",
    "print(\"Time 2: \", end=\"\")\n",
    "time2.display_time()\n",
    "    \n",
    "\n",
    "result_time = time1.addition(time2)\n",
    "    \n",
    "print(\"After addition: \", end=\"\")\n",
    "result_time.display_time()\n"
   ]
  },
  {
   "cell_type": "code",
   "execution_count": null,
   "metadata": {},
   "outputs": [],
   "source": []
  }
 ],
 "metadata": {
  "kernelspec": {
   "display_name": "Python 3 (ipykernel)",
   "language": "python",
   "name": "python3"
  },
  "language_info": {
   "codemirror_mode": {
    "name": "ipython",
    "version": 3
   },
   "file_extension": ".py",
   "mimetype": "text/x-python",
   "name": "python",
   "nbconvert_exporter": "python",
   "pygments_lexer": "ipython3",
   "version": "3.10.9"
  }
 },
 "nbformat": 4,
 "nbformat_minor": 4
}
