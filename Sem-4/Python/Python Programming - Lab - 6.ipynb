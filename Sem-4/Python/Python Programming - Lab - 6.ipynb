{
 "cells": [
  {
   "cell_type": "markdown",
   "metadata": {},
   "source": [
    "<a href='https://www.darshan.ac.in/'> <img src='https://www.darshan.ac.in/Content/media/DU_Logo.svg' width=\"250\" height=\"300\"/></a>\n",
    "<pre>\n",
    "<center><b><h1>Python Programming - 2301CS404</b></center>\n",
    "<center><b><h1>Lab - 6</b></center>    \n",
    "<pre>"
   ]
  },
  {
   "cell_type": "markdown",
   "metadata": {},
   "source": [
    "# Tuple"
   ]
  },
  {
   "cell_type": "markdown",
   "metadata": {},
   "source": [
    "### 01) WAP to find sum of tuple elements."
   ]
  },
  {
   "cell_type": "code",
   "execution_count": 2,
   "metadata": {},
   "outputs": [
    {
     "name": "stdout",
     "output_type": "stream",
     "text": [
      "15\n"
     ]
    }
   ],
   "source": [
    "sum = 0\n",
    "tup = 1,2,3,4,5\n",
    "for i in tup:\n",
    "    sum+=i\n",
    "print(sum)"
   ]
  },
  {
   "cell_type": "markdown",
   "metadata": {},
   "source": [
    "### 02) WAP to find Maximum and Minimum K elements in a given tuple."
   ]
  },
  {
   "cell_type": "code",
   "execution_count": 61,
   "metadata": {},
   "outputs": [
    {
     "name": "stdout",
     "output_type": "stream",
     "text": [
      "(2, 2, 8, 9)\n"
     ]
    }
   ],
   "source": [
    "tup = 5,4,3,2,8,2,6,9\n",
    "k = 2\n",
    "mylist = sorted(list(tup))\n",
    "tup = tuple(mylist[:k]+mylist[-k:])\n",
    "print(tup)"
   ]
  },
  {
   "cell_type": "markdown",
   "metadata": {},
   "source": [
    "### 03) WAP to find tuples which have all elements divisible by K from a list of tuples."
   ]
  },
  {
   "cell_type": "code",
   "execution_count": 68,
   "metadata": {},
   "outputs": [
    {
     "name": "stdout",
     "output_type": "stream",
     "text": [
      "Enter tuple elements : 1,2,3\n",
      "Enter tuple elements : 2,4,8\n",
      "Enter tuple elements : 5,6,7\n",
      "((2, 4, 8),)\n"
     ]
    }
   ],
   "source": [
    "myList = []\n",
    "for i in range(0,3):\n",
    "    x = input(\"Enter tuple elements : \").split(\",\")\n",
    "    myList.append(tuple(int(i) for i in x))\n",
    "k = 2\n",
    "tup = tuple(i for i in myList if all(j%k==0 for j in i))\n",
    "print(tup)"
   ]
  },
  {
   "cell_type": "markdown",
   "metadata": {},
   "source": [
    "### 04) WAP to create a list of tuples from given list having number and its cube in each tuple."
   ]
  },
  {
   "cell_type": "code",
   "execution_count": 18,
   "metadata": {},
   "outputs": [
    {
     "name": "stdout",
     "output_type": "stream",
     "text": [
      "[(1, 1), (2, 8), (3, 27), (4, 64), (5, 125)]\n"
     ]
    }
   ],
   "source": [
    "list = [1,2,3,4,5]\n",
    "listOfTup = [(i,i**3) for i in list]\n",
    "print(listOfTup)"
   ]
  },
  {
   "cell_type": "markdown",
   "metadata": {},
   "source": [
    "### 05) WAP to find tuples with all positive elements from the given list of tuples."
   ]
  },
  {
   "cell_type": "code",
   "execution_count": 24,
   "metadata": {},
   "outputs": [
    {
     "name": "stdout",
     "output_type": "stream",
     "text": [
      "(3, 1, 2, 1, 2, 3)\n"
     ]
    }
   ],
   "source": [
    "list = [(-1,-2,3),(1,2,-2),(1,2,3),(-1,-2,-3)]\n",
    "tup = tuple()\n",
    "for i in list:\n",
    "    tup += tuple(j for j in i if(j>=0))\n",
    "print(tup)"
   ]
  },
  {
   "cell_type": "markdown",
   "metadata": {},
   "source": [
    "### 06) WAP to add tuple to list and vice – versa."
   ]
  },
  {
   "cell_type": "code",
   "execution_count": 30,
   "metadata": {},
   "outputs": [
    {
     "name": "stdout",
     "output_type": "stream",
     "text": [
      "list: [1, 2, 3, 4, 5, 10, 11, 12, 13, 14, 15]\n",
      "tuple: (10, 11, 12, 13, 14, 15, 1, 2, 3, 4, 5, 10, 11, 12, 13, 14, 15)\n"
     ]
    }
   ],
   "source": [
    "list = [1,2,3,4,5]\n",
    "tup = (10,11,12,13,14,15)\n",
    "list.extend([i for i in tup])\n",
    "tup+=tuple(i for i in list)\n",
    "print(f\"list: {list}\")\n",
    "print(f\"tuple: {tup}\")"
   ]
  },
  {
   "cell_type": "markdown",
   "metadata": {},
   "source": [
    "### 07) WAP to remove tuples of length K."
   ]
  },
  {
   "cell_type": "code",
   "execution_count": 33,
   "metadata": {},
   "outputs": [
    {
     "name": "stdout",
     "output_type": "stream",
     "text": [
      "[(1, 2), (4, 2, 5, 6, 7, 8)]\n"
     ]
    }
   ],
   "source": [
    "list = [(1,2,3),(1,2),(4,2,5,6,7,8)]\n",
    "k = 3\n",
    "for i in list:\n",
    "    if(len(i)==k):\n",
    "        list.remove(i)\n",
    "print(list)"
   ]
  },
  {
   "cell_type": "markdown",
   "metadata": {},
   "source": [
    "### 08) WAP to remove duplicates from tuple."
   ]
  },
  {
   "cell_type": "code",
   "execution_count": 36,
   "metadata": {},
   "outputs": [
    {
     "name": "stdout",
     "output_type": "stream",
     "text": [
      "(3, 4)\n"
     ]
    }
   ],
   "source": [
    "tup = (1,2,3,1,4,2)\n",
    "newTup = tuple(i for i in tup if tup.count(i)==1)\n",
    "print(newTup)"
   ]
  },
  {
   "cell_type": "markdown",
   "metadata": {},
   "source": [
    "### 09) WAP to multiply adjacent elements of a tuple and print that resultant tuple."
   ]
  },
  {
   "cell_type": "code",
   "execution_count": 46,
   "metadata": {},
   "outputs": [
    {
     "name": "stdout",
     "output_type": "stream",
     "text": [
      "(2, 6, 12, 20, 30)\n"
     ]
    }
   ],
   "source": [
    "tup = (1,2,3,4,5,6)\n",
    "result=tuple(tup[i]*tup[i+1] for i in range(len(tup)-1))\n",
    "print(result)"
   ]
  },
  {
   "cell_type": "markdown",
   "metadata": {},
   "source": [
    "### 10) WAP to test if the given tuple is distinct or not."
   ]
  },
  {
   "cell_type": "code",
   "execution_count": 55,
   "metadata": {},
   "outputs": [
    {
     "name": "stdout",
     "output_type": "stream",
     "text": [
      "Not distinct\n"
     ]
    }
   ],
   "source": [
    "tup = (1,2,3,4,5,2,4,5,6)\n",
    "mySet = set(tup)\n",
    "if(len(mySet)!=len(tup)):\n",
    "    print(\"Not distinct\")\n",
    "else:\n",
    "    print(\"Distinct\")"
   ]
  }
 ],
 "metadata": {
  "kernelspec": {
   "display_name": "Python 3 (ipykernel)",
   "language": "python",
   "name": "python3"
  },
  "language_info": {
   "codemirror_mode": {
    "name": "ipython",
    "version": 3
   },
   "file_extension": ".py",
   "mimetype": "text/x-python",
   "name": "python",
   "nbconvert_exporter": "python",
   "pygments_lexer": "ipython3",
   "version": "3.10.9"
  }
 },
 "nbformat": 4,
 "nbformat_minor": 4
}
