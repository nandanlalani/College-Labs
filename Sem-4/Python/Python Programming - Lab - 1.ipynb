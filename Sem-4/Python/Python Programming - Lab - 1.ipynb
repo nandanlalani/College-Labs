{
 "cells": [
  {
   "cell_type": "markdown",
   "metadata": {},
   "source": [
    "<a href='https://www.darshan.ac.in/'> <img src='https://www.darshan.ac.in/Content/media/DU_Logo.svg' width=\"250\" height=\"10\"/></a>\n",
    "<pre>\n",
    "<center><b><h1>Python Programming - 2301CS404</b></center>\n",
    "<center><b><h1>Lab - 1</b></center>    \n",
    "<pre>"
   ]
  },
  {
   "cell_type": "markdown",
   "metadata": {},
   "source": [
    "### 01) WAP to print “Hello World”"
   ]
  },
  {
   "cell_type": "code",
   "execution_count": 1,
   "metadata": {},
   "outputs": [
    {
     "name": "stdout",
     "output_type": "stream",
     "text": [
      "Hello world!\n"
     ]
    }
   ],
   "source": [
    "print(\"Hello world!\")"
   ]
  },
  {
   "cell_type": "markdown",
   "metadata": {},
   "source": [
    "### 02) WAP to print addition of two numbers with and without using input()."
   ]
  },
  {
   "cell_type": "code",
   "execution_count": 2,
   "metadata": {},
   "outputs": [
    {
     "name": "stdout",
     "output_type": "stream",
     "text": [
      "1+2= 3\n"
     ]
    },
    {
     "name": "stdin",
     "output_type": "stream",
     "text": [
      "Enter a: 1\n",
      "Enter b: 2\n"
     ]
    },
    {
     "name": "stdout",
     "output_type": "stream",
     "text": [
      "a + b =  3\n"
     ]
    }
   ],
   "source": [
    "print(\"1+2=\",1+2)\n",
    "a = int(input(\"Enter a:\"))\n",
    "b = int(input(\"Enter b:\"))\n",
    "print(\"a + b = \",a+b)"
   ]
  },
  {
   "cell_type": "markdown",
   "metadata": {},
   "source": [
    "### 03) WAP to check the type of the variable."
   ]
  },
  {
   "cell_type": "code",
   "execution_count": 3,
   "metadata": {},
   "outputs": [
    {
     "name": "stdout",
     "output_type": "stream",
     "text": [
      "1  :  <class 'int'>\n",
      "1.5  :  <class 'float'>\n",
      "True  :  <class 'bool'>\n",
      "{1, 2, 3}  :  <class 'set'>\n",
      "(1, 2, 3)  :  <class 'tuple'>\n",
      "{'first': 1, 'second': 2}  :  <class 'dict'>\n"
     ]
    }
   ],
   "source": [
    "a = 1\n",
    "b = 1.5\n",
    "c = True\n",
    "d = {1,2,3}\n",
    "e = (1,2,3)\n",
    "f = {\"first\": 1, \"second\": 2}\n",
    "g = [a,b,c,d,e,f]\n",
    "\n",
    "for i in g:\n",
    "    print(i,\" : \",type(i))"
   ]
  },
  {
   "cell_type": "markdown",
   "metadata": {},
   "source": [
    "### 04) WAP to calculate simple interest."
   ]
  },
  {
   "cell_type": "code",
   "execution_count": 5,
   "metadata": {},
   "outputs": [
    {
     "name": "stdin",
     "output_type": "stream",
     "text": [
      "Enter amount :  500\n",
      "Enter duration(in year) :  2\n",
      "Enter percentage :  2\n"
     ]
    },
    {
     "name": "stdout",
     "output_type": "stream",
     "text": [
      "Interest is :  20.0\n"
     ]
    }
   ],
   "source": [
    "a = float(input(\"Enter amount : \"))\n",
    "t = float(input(\"Enter duration(in year) : \"))\n",
    "r = float(input(\"Enter percentage : \"))\n",
    "p = a*t*r/100\n",
    "print(\"Interest is : \",p)"
   ]
  },
  {
   "cell_type": "markdown",
   "metadata": {},
   "source": [
    "### 05) WAP to calculate area and perimeter of a circle."
   ]
  },
  {
   "cell_type": "code",
   "execution_count": 6,
   "metadata": {},
   "outputs": [
    {
     "name": "stdin",
     "output_type": "stream",
     "text": [
      "Enter radius :  5\n"
     ]
    },
    {
     "name": "stdout",
     "output_type": "stream",
     "text": [
      "Area =  78.5\n",
      "Perimeter =  31.400000000000002\n"
     ]
    }
   ],
   "source": [
    "r = float(input(\"Enter radius : \"))\n",
    "print(\"Area = \",3.14*r**2)\n",
    "print(\"Perimeter = \",2*3.14*r)"
   ]
  },
  {
   "cell_type": "markdown",
   "metadata": {},
   "source": [
    "### 06) WAP to calculate area of a triangle."
   ]
  },
  {
   "cell_type": "code",
   "execution_count": 8,
   "metadata": {},
   "outputs": [
    {
     "name": "stdin",
     "output_type": "stream",
     "text": [
      "Enter height :  5\n",
      "Enter base :  5\n"
     ]
    },
    {
     "name": "stdout",
     "output_type": "stream",
     "text": [
      "Area =  12.5\n"
     ]
    }
   ],
   "source": [
    "h = float(input(\"Enter height : \"))\n",
    "b = float(input(\"Enter base : \"))\n",
    "print(\"Area = \",0.5*h*b)"
   ]
  },
  {
   "cell_type": "markdown",
   "metadata": {},
   "source": [
    "### 07) WAP to compute quotient and remainder."
   ]
  },
  {
   "cell_type": "code",
   "execution_count": 10,
   "metadata": {},
   "outputs": [
    {
     "name": "stdin",
     "output_type": "stream",
     "text": [
      "Enter devident :  5\n",
      "Enter divisor :  2\n"
     ]
    },
    {
     "name": "stdout",
     "output_type": "stream",
     "text": [
      "Quiont =  2.0\n",
      "Reminder =  1.0\n"
     ]
    }
   ],
   "source": [
    "divident = float(input(\"Enter devident : \"))\n",
    "divisor = float(input(\"Enter divisor : \"))\n",
    "print(\"Quiont = \",divident//divisor)\n",
    "print(\"Reminder = \",divident%divisor)"
   ]
  },
  {
   "cell_type": "markdown",
   "metadata": {},
   "source": [
    "### 08) WAP to convert degree into Fahrenheit and vice versa."
   ]
  },
  {
   "cell_type": "code",
   "execution_count": 15,
   "metadata": {},
   "outputs": [
    {
     "name": "stdin",
     "output_type": "stream",
     "text": [
      "Enter temperature in Celsius:  32\n"
     ]
    },
    {
     "name": "stdout",
     "output_type": "stream",
     "text": [
      "32.0°C = 89.6°F\n"
     ]
    },
    {
     "name": "stdin",
     "output_type": "stream",
     "text": [
      "Enter temperature in Fahrenheit:  32\n"
     ]
    },
    {
     "name": "stdout",
     "output_type": "stream",
     "text": [
      "32.0°F = 0.0°C\n"
     ]
    }
   ],
   "source": [
    "deg = float(input(\"Enter temperature in Celsius: \"))\n",
    "fahrenheit = (deg * 9/5) + 32\n",
    "print(f\"{deg}°C = {fahrenheit}°F\")\n",
    "\n",
    "f = float(input(\"Enter temperature in Fahrenheit: \"))\n",
    "celsius = (f - 32) * (5/9)\n",
    "print(f\"{f}°F = {celsius}°C\")"
   ]
  },
  {
   "cell_type": "markdown",
   "metadata": {},
   "source": [
    "### 09) WAP to find the distance between two points in 2-D space."
   ]
  },
  {
   "cell_type": "code",
   "execution_count": 19,
   "metadata": {},
   "outputs": [
    {
     "name": "stdin",
     "output_type": "stream",
     "text": [
      "Enter x1 :  25\n",
      "Enter y1 :  25\n",
      "Enter x2 :  10\n",
      "Enter y2 :  10\n"
     ]
    },
    {
     "name": "stdout",
     "output_type": "stream",
     "text": [
      "The distance between the two points is: 21.21\n"
     ]
    }
   ],
   "source": [
    "import math\n",
    "x1,y1 = int(input(\"Enter x1 : \")), int(input(\"Enter y1 : \"))\n",
    "x2,y2 = int(input(\"Enter x2 : \")), int(input(\"Enter y2 : \"))\n",
    "distance = math.sqrt((x2 - x1)**2 + (y2 - y1)**2)\n",
    "print(f\"The distance between the two points is: {distance:.2f}\")\n"
   ]
  },
  {
   "cell_type": "markdown",
   "metadata": {},
   "source": [
    "### 10) WAP to print sum of n natural numbers."
   ]
  },
  {
   "cell_type": "code",
   "execution_count": 21,
   "metadata": {},
   "outputs": [
    {
     "name": "stdin",
     "output_type": "stream",
     "text": [
      "Enter n :  100\n"
     ]
    },
    {
     "name": "stdout",
     "output_type": "stream",
     "text": [
      "5050\n"
     ]
    }
   ],
   "source": [
    "n = int(input(\"Enter n : \"))\n",
    "print(n*(n+1)//2)"
   ]
  },
  {
   "cell_type": "markdown",
   "metadata": {},
   "source": [
    "### 11) WAP to print sum of square of n natural numbers."
   ]
  },
  {
   "cell_type": "code",
   "execution_count": 23,
   "metadata": {},
   "outputs": [
    {
     "name": "stdin",
     "output_type": "stream",
     "text": [
      "Enter n :  5\n"
     ]
    },
    {
     "name": "stdout",
     "output_type": "stream",
     "text": [
      "55\n"
     ]
    }
   ],
   "source": [
    "n = int(input(\"Enter n : \"))\n",
    "print(n*(n+1)*(2*n+1)//6)"
   ]
  },
  {
   "cell_type": "markdown",
   "metadata": {},
   "source": [
    "### 12) WAP to concate the first and last name of the student."
   ]
  },
  {
   "cell_type": "code",
   "execution_count": 24,
   "metadata": {},
   "outputs": [
    {
     "name": "stdin",
     "output_type": "stream",
     "text": [
      "Enter first name :  jevin\n",
      "Enter last name :  morad\n"
     ]
    },
    {
     "name": "stdout",
     "output_type": "stream",
     "text": [
      "jevin morad\n"
     ]
    }
   ],
   "source": [
    "fname = input(\"Enter first name : \")\n",
    "lname = input(\"Enter last name : \")\n",
    "print(fname,lname,sep=\" \")"
   ]
  },
  {
   "cell_type": "markdown",
   "metadata": {},
   "source": [
    "### 13) WAP to swap two numbers."
   ]
  },
  {
   "cell_type": "code",
   "execution_count": 27,
   "metadata": {},
   "outputs": [
    {
     "name": "stdout",
     "output_type": "stream",
     "text": [
      "before a=1 b=2\n",
      "after a=2 b=1\n"
     ]
    }
   ],
   "source": [
    "a,b = 1,2\n",
    "print(f\"before a={a} b={b}\")\n",
    "a,b = b,a\n",
    "print(f\"after a={a} b={b}\")"
   ]
  },
  {
   "cell_type": "markdown",
   "metadata": {},
   "source": [
    "### 14) WAP to get the distance from user into kilometer, and convert it into meter, feet, inches and centimeter."
   ]
  },
  {
   "cell_type": "code",
   "execution_count": 28,
   "metadata": {},
   "outputs": [
    {
     "name": "stdin",
     "output_type": "stream",
     "text": [
      "Enter distance in kilometers:  1\n"
     ]
    },
    {
     "name": "stdout",
     "output_type": "stream",
     "text": [
      "1.0 kilometers is equal to:\n",
      "1000.0 meters\n",
      "3280.84 feet\n",
      "39370.1 inches\n",
      "100000.0 centimeters\n"
     ]
    }
   ],
   "source": [
    "km = float(input(\"Enter distance in kilometers: \"))\n",
    "\n",
    "meters = km * 1000\n",
    "feet = km * 3280.84\n",
    "inches = km * 39370.1\n",
    "centimeters = km * 100000\n",
    "\n",
    "print(f\"{km} kilometers is equal to:\")\n",
    "print(f\"{meters} meters\")\n",
    "print(f\"{feet} feet\")\n",
    "print(f\"{inches} inches\")\n",
    "print(f\"{centimeters} centimeters\")\n"
   ]
  },
  {
   "cell_type": "markdown",
   "metadata": {},
   "source": [
    "### 15) WAP to get day, month and year from the user and print the date in the given format: 23-11-2024."
   ]
  },
  {
   "cell_type": "code",
   "execution_count": 30,
   "metadata": {},
   "outputs": [
    {
     "name": "stdin",
     "output_type": "stream",
     "text": [
      "Enter day:  1\n",
      "Enter month:  2\n",
      "Enter year:  3\n"
     ]
    },
    {
     "name": "stdout",
     "output_type": "stream",
     "text": [
      "01-02-3\n"
     ]
    }
   ],
   "source": [
    "day = input(\"Enter day: \")\n",
    "month = input(\"Enter month: \")\n",
    "year = input(\"Enter year: \")\n",
    "\n",
    "print(f\"{day.zfill(2)}-{month.zfill(2)}-{year}\")\n"
   ]
  }
 ],
 "metadata": {
  "kernelspec": {
   "display_name": "Python 3 (ipykernel)",
   "language": "python",
   "name": "python3"
  },
  "language_info": {
   "codemirror_mode": {
    "name": "ipython",
    "version": 3
   },
   "file_extension": ".py",
   "mimetype": "text/x-python",
   "name": "python",
   "nbconvert_exporter": "python",
   "pygments_lexer": "ipython3",
   "version": "3.10.9"
  },
  "vscode": {
   "interpreter": {
    "hash": "31f2aee4e71d21fbe5cf8b01ff0e069b9275f58929596ceb00d14d90e3e16cd6"
   }
  }
 },
 "nbformat": 4,
 "nbformat_minor": 4
}
