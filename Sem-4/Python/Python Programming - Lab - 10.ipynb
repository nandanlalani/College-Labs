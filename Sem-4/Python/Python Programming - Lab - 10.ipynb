{
 "cells": [
  {
   "cell_type": "markdown",
   "metadata": {},
   "source": [
    "<a href='https://www.darshan.ac.in/'> <img src='https://www.darshan.ac.in/Content/media/DU_Logo.svg' width=\"250\" height=\"300\"/></a>\n",
    "<pre>\n",
    "<center><b><h1>Python Programming - 2301CS404</b></center>\n",
    "<center><b><h1>Lab - 10</b></center>    \n",
    "<pre>"
   ]
  },
  {
   "cell_type": "markdown",
   "metadata": {},
   "source": [
    "# Exception Handling"
   ]
  },
  {
   "cell_type": "markdown",
   "metadata": {},
   "source": [
    "### 01) WAP to handle following exceptions:\n",
    "1. ZeroDivisionError\n",
    "2. ValueError\n",
    "3. TypeError\n",
    "#### Note: handle them using separate except blocks and also using single except block too."
   ]
  },
  {
   "cell_type": "code",
   "execution_count": 39,
   "metadata": {},
   "outputs": [
    {
     "name": "stdout",
     "output_type": "stream",
     "text": [
      "Zero Division error\n",
      "Enter a number: a\n",
      "invalid literal for int() with base 10: 'a'\n",
      "can only concatenate str (not \"int\") to str\n"
     ]
    }
   ],
   "source": [
    "try:\n",
    "    a = 9\n",
    "    b = 0\n",
    "    c = a//b\n",
    "except ZeroDivisionError:\n",
    "    print(\"Zero Division error\")\n",
    "    \n",
    "\n",
    "try:\n",
    "    a = int(input(\"Enter a number: \"))\n",
    "except ValueError as err:\n",
    "    print(err)\n",
    "\n",
    "\n",
    "\n",
    "try:\n",
    "    a = 'nandan'\n",
    "    b = 0\n",
    "    c = a+b\n",
    "except TypeError as err:\n",
    "    print(err)"
   ]
  },
  {
   "cell_type": "markdown",
   "metadata": {},
   "source": [
    "### 02)  WAP to handle following exceptions:\n",
    "1. IndexError\n",
    "2. KeyError"
   ]
  },
  {
   "cell_type": "code",
   "execution_count": 17,
   "metadata": {},
   "outputs": [
    {
     "name": "stdout",
     "output_type": "stream",
     "text": [
      "list index out of range\n",
      "The give key does not exixt '2' Thus key error\n"
     ]
    }
   ],
   "source": [
    "try:\n",
    "    a = [1,2,3,4]\n",
    "    print(a[4])\n",
    "except IndexError as err:\n",
    "    print(err)\n",
    "\n",
    "    \n",
    "    \n",
    "    \n",
    "try:\n",
    "    dc = {\"1\":\"nandan\"}\n",
    "    print(dc[\"2\"])\n",
    "except KeyError as err:\n",
    "    print(f'The give key does not exixt {err} Thus key error')"
   ]
  },
  {
   "cell_type": "markdown",
   "metadata": {},
   "source": [
    "### 03) WAP to handle following exceptions:\n",
    "1. FileNotFoundError\n",
    "2. ModuleNotFoundError"
   ]
  },
  {
   "cell_type": "code",
   "execution_count": 22,
   "metadata": {},
   "outputs": [
    {
     "name": "stdout",
     "output_type": "stream",
     "text": [
      "[Errno 2] No such file or directory: 'lab10.txt'\n",
      "No module named 'mathsd'\n"
     ]
    }
   ],
   "source": [
    "try:\n",
    "    fp = open(\"lab10.txt\",\"r\")\n",
    "except FileNotFoundError as err:\n",
    "    print(err)\n",
    "\n",
    "try:\n",
    "    import mathsd as i\n",
    "except ModuleNotFoundError as err:\n",
    "    print(err)\n",
    "    "
   ]
  },
  {
   "cell_type": "markdown",
   "metadata": {},
   "source": [
    "### 04) WAP that catches all type of exceptions in a single except block."
   ]
  },
  {
   "cell_type": "code",
   "execution_count": 25,
   "metadata": {},
   "outputs": [
    {
     "name": "stdout",
     "output_type": "stream",
     "text": [
      "list index out of range\n"
     ]
    }
   ],
   "source": [
    "try:\n",
    "    ##fp = open(\"lab10.txt\",\"r\")\n",
    "    a = [1,2,3,4]\n",
    "    print(a[4])\n",
    "except Exception as err:\n",
    "    print(err)"
   ]
  },
  {
   "cell_type": "markdown",
   "metadata": {},
   "source": [
    "### 05) WAP to demonstrate else  and finally block."
   ]
  },
  {
   "cell_type": "code",
   "execution_count": 32,
   "metadata": {},
   "outputs": [
    {
     "name": "stdout",
     "output_type": "stream",
     "text": [
      "[Errno 2] No such file or directory: 'lab10.txt'\n",
      "This block will always be executed.\n"
     ]
    }
   ],
   "source": [
    "try:\n",
    "    #fp = open(\"Score Board.txt\",\"r\")\n",
    "    fp = open(\"lab10.txt\",\"r\")\n",
    "except FileNotFoundError as err:\n",
    "    print(err)\n",
    "else:\n",
    "    print(fp.read())\n",
    "    fp.close()\n",
    "finally:\n",
    "    print(\"This block will always be executed.\")"
   ]
  },
  {
   "cell_type": "markdown",
   "metadata": {},
   "source": [
    "### 06) Create a short program that prompts the user for a list of grades separated by commas. \n",
    "### Split the string into individual grades and use a list comprehension to convert each string to an integer. \n",
    "### You should use a try statement to inform the user when the values they entered cannot be converted."
   ]
  },
  {
   "cell_type": "code",
   "execution_count": 42,
   "metadata": {},
   "outputs": [
    {
     "name": "stdout",
     "output_type": "stream",
     "text": [
      "Enter the grades commo separated: 1,2,3\n",
      "['1', '2', '3']\n",
      "The grades in int [1, 2, 3]\n",
      "Program executed\n"
     ]
    }
   ],
   "source": [
    "try:\n",
    "    st = input(\"Enter the grades commo separated: \")\n",
    "    grades = st.split(\",\")\n",
    "    print(grades)\n",
    "    grades_int = [int(i) for i in grades]\n",
    "except Exception as err:\n",
    "    print(f'Errot: {err}')\n",
    "else:\n",
    "    print(f'The grades in int {grades_int}')\n",
    "finally:\n",
    "    print(\"Program executed\")\n",
    "    "
   ]
  },
  {
   "cell_type": "markdown",
   "metadata": {},
   "source": [
    "### 07) WAP to create an udf divide(a,b) that handles ZeroDivisionError."
   ]
  },
  {
   "cell_type": "code",
   "execution_count": 46,
   "metadata": {},
   "outputs": [
    {
     "name": "stdout",
     "output_type": "stream",
     "text": [
      "5\n"
     ]
    }
   ],
   "source": [
    "def divide(a,b):\n",
    "    try:\n",
    "        c = a//b\n",
    "    except ZeroDivisionError as err:\n",
    "        print(err)\n",
    "    else:\n",
    "        print(c)\n",
    "\n",
    "\n",
    "divide(10,2)"
   ]
  },
  {
   "cell_type": "markdown",
   "metadata": {},
   "source": [
    "### 08) WAP that gets an age of a person form the user and raises ValueError with error message: \"Enter Valid Age\" :\n",
    "#### If the age is less than 18. \n",
    "#### otherwise print the age."
   ]
  },
  {
   "cell_type": "code",
   "execution_count": 49,
   "metadata": {},
   "outputs": [
    {
     "name": "stdout",
     "output_type": "stream",
     "text": [
      "Enter age of the person: 2\n",
      "Enter Valid Age\n"
     ]
    }
   ],
   "source": [
    "try:\n",
    "    a = int(input(\"Enter age of the person: \"))\n",
    "    if a<18:\n",
    "        raise Exception\n",
    "except Exception:\n",
    "    print(\"Enter Valid Age\")"
   ]
  },
  {
   "cell_type": "markdown",
   "metadata": {},
   "source": [
    "### 09) WAP to raise your custom Exception named InvalidUsernameError with the error message : \"Username must be between 5 and 15 characters long\":\n",
    "#### if the given name is having characters less than 5 or greater than 15.\n",
    "#### otherwise print the given username."
   ]
  },
  {
   "cell_type": "code",
   "execution_count": 55,
   "metadata": {},
   "outputs": [
    {
     "name": "stdout",
     "output_type": "stream",
     "text": [
      "Enter UserName: rag\n",
      "Invalid Username Entered\n"
     ]
    }
   ],
   "source": [
    "class InvalidUsernameError(Exception):\n",
    "    def __init__(self,msg):\n",
    "        self.msg = msg\n",
    "try:\n",
    "    userName = input(\"Enter UserName: \")\n",
    "    if len(userName)<5 or len(userName)>15:\n",
    "        raise InvalidUsernameError(\"Invalid Username Entered\")\n",
    "except InvalidUsernameError as err:\n",
    "    print(err)\n",
    "else:\n",
    "    print(f'UserName: {userName}')"
   ]
  },
  {
   "cell_type": "markdown",
   "metadata": {},
   "source": [
    "### 10) WAP to raise your custom Exception named NegativeNumberError with the error message : \"Cannot calculate the square root of a negative number\" :\n",
    "#### if the given number is negative.\n",
    "#### otherwise print the square root of the given number."
   ]
  },
  {
   "cell_type": "code",
   "execution_count": 59,
   "metadata": {},
   "outputs": [
    {
     "name": "stdout",
     "output_type": "stream",
     "text": [
      "Enter number to find square root: -25\n",
      "Cannot calculate the square root of a negative number\n"
     ]
    }
   ],
   "source": [
    "import math\n",
    "class NegativeNumberError(Exception):\n",
    "    def __init__(self,msg):\n",
    "        self.msg = msg\n",
    "try:\n",
    "    num = int(input(\"Enter number to find square root: \"))\n",
    "    if num<0:\n",
    "        raise NegativeNumberError(\"Cannot calculate the square root of a negative number\")\n",
    "except NegativeNumberError as err:\n",
    "    print(err)\n",
    "else:\n",
    "    print(f'Square root of {num}: {math.sqrt(num)}')\n"
   ]
  },
  {
   "cell_type": "code",
   "execution_count": null,
   "metadata": {},
   "outputs": [],
   "source": []
  }
 ],
 "metadata": {
  "kernelspec": {
   "display_name": "Python 3 (ipykernel)",
   "language": "python",
   "name": "python3"
  },
  "language_info": {
   "codemirror_mode": {
    "name": "ipython",
    "version": 3
   },
   "file_extension": ".py",
   "mimetype": "text/x-python",
   "name": "python",
   "nbconvert_exporter": "python",
   "pygments_lexer": "ipython3",
   "version": "3.10.9"
  }
 },
 "nbformat": 4,
 "nbformat_minor": 4
}
