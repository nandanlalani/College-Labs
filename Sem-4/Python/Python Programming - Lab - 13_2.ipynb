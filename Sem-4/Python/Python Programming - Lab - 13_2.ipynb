{
 "cells": [
  {
   "cell_type": "markdown",
   "metadata": {},
   "source": [
    "<a href='https://www.darshan.ac.in/'> <img src='https://www.darshan.ac.in/Content/media/DU_Logo.svg' width=\"250\" height=\"300\"/></a>\n",
    "<pre>\n",
    "<center><b><h1>Python Programming - 2301CS404</b></center>\n",
    "<center><b><h1>Lab - 13</b></center>    \n",
    "<pre>"
   ]
  },
  {
   "cell_type": "markdown",
   "metadata": {},
   "source": [
    "## Continued.."
   ]
  },
  {
   "cell_type": "markdown",
   "metadata": {},
   "source": [
    "### 10) Calculate area of a ractangle using object as an argument to a method."
   ]
  },
  {
   "cell_type": "code",
   "execution_count": 3,
   "metadata": {},
   "outputs": [
    {
     "name": "stdout",
     "output_type": "stream",
     "text": [
      "Area of the rectangle: 40\n"
     ]
    }
   ],
   "source": [
    "class Rectangle:\n",
    "    def __init__(self, length, width):\n",
    "        self.length = length\n",
    "        self.width = width\n",
    "\n",
    "    def area(self):\n",
    "        return self.length * self.width\n",
    "\n",
    "rect = Rectangle(2,20)\n",
    "\n",
    "def calculate_area(rect):\n",
    "    return rect.area()\n",
    "\n",
    "print(f\"Area of the rectangle: {calculate_area(rect)}\")\n"
   ]
  },
  {
   "cell_type": "markdown",
   "metadata": {},
   "source": [
    "### 11) Calculate the area of a square. \n",
    "### Include a Constructor, a method to calculate area named area() and a method named output() that prints the output and is invoked by area()."
   ]
  },
  {
   "cell_type": "code",
   "execution_count": 9,
   "metadata": {},
   "outputs": [
    {
     "name": "stdout",
     "output_type": "stream",
     "text": [
      "area: 16\n"
     ]
    }
   ],
   "source": [
    "class Square:\n",
    "    def __init__(self,length):\n",
    "        self.length = length\n",
    "    def are(self):\n",
    "        self.area = self.length * self.length\n",
    "    def display(self):\n",
    "        print(f'area: {self.area}')\n",
    "\n",
    "sq = Square(4)\n",
    "\n",
    "def area(meth):\n",
    "    meth.are()\n",
    "    meth.display()\n",
    "\n",
    "area(sq)"
   ]
  },
  {
   "cell_type": "markdown",
   "metadata": {},
   "source": [
    "### 12) Calculate the area of a rectangle. \n",
    "### Include a Constructor, a method to calculate area named area() and a method named output() that prints the output and is invoked by area().\n",
    "### Also define a class method that compares the two sides of reactangle. An object is instantiated only if the two sides are different; otherwise a message should be displayed : THIS IS SQUARE."
   ]
  },
  {
   "cell_type": "code",
   "execution_count": 12,
   "metadata": {},
   "outputs": [
    {
     "name": "stdout",
     "output_type": "stream",
     "text": [
      "Area of the rectangle: 50\n",
      "THIS IS A SQUARE.\n",
      "This is a rectangle.\n",
      "THIS IS A SQUARE.\n"
     ]
    }
   ],
   "source": [
    "class Rectangle:\n",
    "    def __init__(self, length, width):\n",
    "        if length == width:\n",
    "            print(\"THIS IS A SQUARE.\")\n",
    "            self.length = None\n",
    "            self.width = None\n",
    "        else:\n",
    "            self.length = length\n",
    "            self.width = width\n",
    "\n",
    "    def area(self):\n",
    "        if self.length is None or self.width is None:\n",
    "            return\n",
    "        return self.length * self.width\n",
    "\n",
    "    def output(self):\n",
    "        if self.length is None or self.width is None:\n",
    "            return\n",
    "        area = self.area()\n",
    "        print(f\"Area of the rectangle: {area}\")\n",
    "\n",
    "    @classmethod\n",
    "    def compare_sides(cls, length, width):\n",
    "        if length == width:\n",
    "            print(\"THIS IS A SQUARE.\")\n",
    "        else:\n",
    "            print(\"This is a rectangle.\")\n",
    "\n",
    "rect1 = Rectangle(5, 10)\n",
    "rect1.output()\n",
    "\n",
    "rect2 = Rectangle(5, 5)\n",
    "\n",
    "Rectangle.compare_sides(5, 10)\n",
    "Rectangle.compare_sides(25, 25)\n"
   ]
  },
  {
   "cell_type": "markdown",
   "metadata": {},
   "source": [
    "### 13) Define a class Square having a private attribute \"side\". \n",
    "### Implement get_side and set_side methods to accees the private attribute from outside of the class."
   ]
  },
  {
   "cell_type": "code",
   "execution_count": 13,
   "metadata": {},
   "outputs": [
    {
     "name": "stdout",
     "output_type": "stream",
     "text": [
      "5\n",
      "10\n"
     ]
    }
   ],
   "source": [
    "class Square:\n",
    "    def __init__(self, side):\n",
    "        self.__side = side\n",
    "\n",
    "    def get_side(self):\n",
    "        return self.__side\n",
    "\n",
    "    def set_side(self, side):\n",
    "        self.__side = side\n",
    "\n",
    "square = Square(5)\n",
    "print(square.get_side())\n",
    "square.set_side(10)\n",
    "print(square.get_side())\n"
   ]
  },
  {
   "cell_type": "markdown",
   "metadata": {},
   "source": [
    "### 14) Create a class Profit that has a method named getProfit that accepts profit from the user.\n",
    "### Create a class Loss that has a method named getLoss that accepts loss from the user.\n",
    "### Create a class BalanceSheet that inherits from both classes Profit and Loss and calculates the balanace. It has two methods getBalance() and printBalance()."
   ]
  },
  {
   "cell_type": "code",
   "execution_count": 14,
   "metadata": {},
   "outputs": [
    {
     "name": "stdout",
     "output_type": "stream",
     "text": [
      "Enter profit amount: 2500\n",
      "Enter loss amount: 5000\n",
      "Balance: -2500.0\n"
     ]
    }
   ],
   "source": [
    "class Profit:\n",
    "\n",
    "    def getProfit(self):\n",
    "        self.profit = float(input(\"Enter profit amount: \"))\n",
    "\n",
    "class Loss:\n",
    "\n",
    "    def getLoss(self):\n",
    "        self.loss = float(input(\"Enter loss amount: \"))\n",
    "\n",
    "class BalanceSheet(Profit, Loss):\n",
    "    def __init__(self):\n",
    "        self.balance = 0\n",
    "\n",
    "    def getBalance(self):\n",
    "        self.balance = self.profit - self.loss\n",
    "\n",
    "    def printBalance(self):\n",
    "        print(f\"Balance: {self.balance}\")\n",
    "\n",
    "balance_sheet = BalanceSheet()\n",
    "balance_sheet.getProfit()\n",
    "balance_sheet.getLoss()\n",
    "balance_sheet.getBalance()\n",
    "balance_sheet.printBalance()\n"
   ]
  },
  {
   "cell_type": "markdown",
   "metadata": {},
   "source": [
    "### 15) WAP to demonstrate all types of inheritance."
   ]
  },
  {
   "cell_type": "code",
   "execution_count": null,
   "metadata": {},
   "outputs": [],
   "source": [
    "class Animal:\n",
    "    def __init__(self, name):\n",
    "        self.name = name\n",
    "\n",
    "    def speak(self):\n",
    "        return f\"{self.name} makes a sound\"\n",
    "\n",
    "class Dog(Animal):\n",
    "    def __init__(self, name, breed):\n",
    "        super().__init__(name)\n",
    "        self.breed = breed\n",
    "\n",
    "    def speak(self):\n",
    "        return f\"{self.name} says Woof!\"\n",
    "\n",
    "class Mammal:\n",
    "    def has_fur(self):\n",
    "        return True\n",
    "\n",
    "class Cat(Animal, Mammal):\n",
    "    def __init__(self, name):\n",
    "        super().__init__(name)\n",
    "\n",
    "    def speak(self):\n",
    "        return f\"{self.name} says Meow\"\n",
    "\n",
    "class Vehicle:\n",
    "    def __init__(self, brand):\n",
    "        self.brand = brand\n",
    "\n",
    "class Car(Vehicle):\n",
    "    def __init__(self, brand, model):\n",
    "        super().__init__(brand)\n",
    "        self.model = model\n",
    "\n",
    "class ElectricCar(Car):\n",
    "    def __init__(self, brand, model, battery_capacity):\n",
    "        super().__init__(brand, model)\n",
    "        self.battery_capacity = battery_capacity\n",
    "\n",
    "class Bird(Animal):\n",
    "    def __init__(self, name, color):\n",
    "        super().__init__(name)\n",
    "        self.color = color\n",
    "\n",
    "class Parrot(Bird):\n",
    "    def speak(self):\n",
    "        return f\"{self.name} says Squawk!\"\n",
    "\n",
    "class Sparrow(Bird):\n",
    "    def speak(self):\n",
    "        return f\"{self.name} chirps!\"\n",
    "\n",
    "class Person:\n",
    "    def __init__(self, name):\n",
    "        self.name = name\n",
    "\n",
    "class Student(Person):\n",
    "    def __init__(self, name, grade):\n",
    "        super().__init__(name)\n",
    "        self.grade = grade\n",
    "\n",
    "class Worker(Person, Mammal):\n",
    "    def __init__(self, name, job_title):\n",
    "        super().__init__(name)\n",
    "        self.job_title = job_title\n",
    "\n",
    "dog = Dog(\"Buddy\", \"Golden Retriever\")\n",
    "print(dog.speak())\n",
    "\n",
    "cat = Cat(\"Whiskers\")\n",
    "print(cat.speak())\n",
    "print(f\"Does {cat.name} have fur? {cat.has_fur()}\")\n",
    "\n",
    "ecar = ElectricCar(\"Tesla\", \"Model S\", \"100 kWh\")\n",
    "print(f\"{ecar.brand} {ecar.model} with battery capacity: {ecar.battery_capacity}\")\n",
    "\n",
    "parrot = Parrot(\"Polly\", \"Green\")\n",
    "sparrow = Sparrow(\"Chirpy\", \"Brown\")\n",
    "print(parrot.speak())\n",
    "print(sparrow.speak())\n",
    "\n",
    "student = Student(\"Alice\", \"A\")\n",
    "worker = Worker(\"Bob\", \"Engineer\")\n",
    "print(f\"{student.name} has grade: {student.grade}\")\n",
    "print(f\"{worker.name} is a {worker.job_title} and has fur: {worker.has_fur()}\")\n"
   ]
  },
  {
   "cell_type": "markdown",
   "metadata": {},
   "source": [
    "### 16) Create a Person class with a constructor that takes two arguments name and age. \n",
    "### Create a child class Employee that inherits from Person and adds a new attribute salary. \n",
    "### Override the __init__ method in Employee to call the parent class's __init__ method using the super() and then initialize the salary attribute."
   ]
  },
  {
   "cell_type": "code",
   "execution_count": null,
   "metadata": {},
   "outputs": [],
   "source": [
    "class Person:\n",
    "    def __init__(self, name, age):\n",
    "        self.name = name\n",
    "        self.age = age\n",
    "\n",
    "class Employee(Person):\n",
    "    def __init__(self, name, age, salary):\n",
    "        super().__init__(name, age)\n",
    "        self.salary = salary\n",
    "\n",
    "employee = Employee(\"John Doe\", 30, 50000)\n",
    "print(f\"Name: {employee.name}, Age: {employee.age}, Salary: {employee.salary}\")\n"
   ]
  },
  {
   "cell_type": "markdown",
   "metadata": {},
   "source": [
    "### 17) Create a Shape class with a draw method that is not implemented. \n",
    "### Create three child classes Rectangle, Circle, and Triangle that implement the draw method with their respective drawing behaviors. \n",
    "### Create a list of Shape objects that includes one instance of each child class, and then iterate through the list and call the draw method on each object."
   ]
  },
  {
   "cell_type": "code",
   "execution_count": null,
   "metadata": {},
   "outputs": [],
   "source": [
    "from abc import ABC, abstractmethod\n",
    "\n",
    "class Shape(ABC):\n",
    "    @abstractmethod\n",
    "    def draw(self):\n",
    "        pass\n",
    "\n",
    "class Rectangle(Shape):\n",
    "    def draw(self):\n",
    "        print(\"Drawing a Rectangle.\")\n",
    "\n",
    "class Circle(Shape):\n",
    "    def draw(self):\n",
    "        print(\"Drawing a Circle.\")\n",
    "\n",
    "class Triangle(Shape):\n",
    "    def draw(self):\n",
    "        print(\"Drawing a Triangle.\")\n",
    "\n",
    "shapes = [Rectangle(), Circle(), Triangle()]\n",
    "\n",
    "for shape in shapes:\n",
    "    shape.draw()\n"
   ]
  }
 ],
 "metadata": {
  "kernelspec": {
   "display_name": "Python 3 (ipykernel)",
   "language": "python",
   "name": "python3"
  },
  "language_info": {
   "codemirror_mode": {
    "name": "ipython",
    "version": 3
   },
   "file_extension": ".py",
   "mimetype": "text/x-python",
   "name": "python",
   "nbconvert_exporter": "python",
   "pygments_lexer": "ipython3",
   "version": "3.10.9"
  }
 },
 "nbformat": 4,
 "nbformat_minor": 4
}
