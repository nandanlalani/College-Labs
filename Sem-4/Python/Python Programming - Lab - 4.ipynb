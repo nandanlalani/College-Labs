{
 "cells": [
  {
   "cell_type": "markdown",
   "metadata": {},
   "source": [
    "\n",
    "<a href='https://www.darshan.ac.in/'> <img src='https://www.darshan.ac.in/Content/media/DU_Logo.svg' width=\"250\" height=\"300\"/></a>\n",
    "<pre>\n",
    "<center><b><h1>Python Programming - 2301CS404</b></center>\n",
    "<center><b><h1>Lab - 4</b></center>    \n",
    "<pre>"
   ]
  },
  {
   "cell_type": "markdown",
   "metadata": {},
   "source": [
    "# String"
   ]
  },
  {
   "cell_type": "markdown",
   "metadata": {},
   "source": [
    "### 01) WAP to check whether the given string is palindrome or not."
   ]
  },
  {
   "cell_type": "code",
   "execution_count": 33,
   "metadata": {},
   "outputs": [
    {
     "name": "stdout",
     "output_type": "stream",
     "text": [
      "Enter string : abba\n",
      "String is palindrome\n"
     ]
    }
   ],
   "source": [
    "word = input(\"Enter string : \")\n",
    "rev = word[::-1]\n",
    "if(rev==word):\n",
    "    print(\"String is palindrome\")\n",
    "else:\n",
    "    print(\"String is not palindrome\")"
   ]
  },
  {
   "cell_type": "markdown",
   "metadata": {},
   "source": [
    "### 02) WAP to reverse the words in the given string."
   ]
  },
  {
   "cell_type": "code",
   "execution_count": 3,
   "metadata": {},
   "outputs": [
    {
     "name": "stdout",
     "output_type": "stream",
     "text": [
      "Enter string : abc\n",
      "Original : abc\n",
      "Reverse : cba\n"
     ]
    }
   ],
   "source": [
    "word = input(\"Enter string : \")\n",
    "rev = word[::-1]\n",
    "print(f'Original : {word}\\nReverse : {rev}')"
   ]
  },
  {
   "cell_type": "markdown",
   "metadata": {},
   "source": [
    "### 03) WAP to remove ith character from given string."
   ]
  },
  {
   "cell_type": "code",
   "execution_count": 13,
   "metadata": {},
   "outputs": [
    {
     "name": "stdout",
     "output_type": "stream",
     "text": [
      "Enter string : jevin\n",
      "Enter i : 2\n",
      "jein\n"
     ]
    }
   ],
   "source": [
    "word = input(\"Enter string : \")\n",
    "i = int(input(\"Enter i : \"))\n",
    "split1 = word[0:i]\n",
    "split2 = word[i+1:]\n",
    "word = split1+split2\n",
    "print(word)"
   ]
  },
  {
   "cell_type": "markdown",
   "metadata": {},
   "source": [
    "### 04) WAP to find length of string without using len function."
   ]
  },
  {
   "cell_type": "code",
   "execution_count": 21,
   "metadata": {},
   "outputs": [
    {
     "name": "stdout",
     "output_type": "stream",
     "text": [
      "Enter string : jevin\n",
      "5\n"
     ]
    }
   ],
   "source": [
    "words = input(\"Enter string : \")\n",
    "count=0\n",
    "for word in words:\n",
    "    count+=1;\n",
    "print(count)"
   ]
  },
  {
   "cell_type": "markdown",
   "metadata": {},
   "source": [
    "### 05) WAP to print even length word in string."
   ]
  },
  {
   "cell_type": "code",
   "execution_count": 27,
   "metadata": {},
   "outputs": [
    {
     "name": "stdout",
     "output_type": "stream",
     "text": [
      "Enter string : rjgfh rsegjh\n",
      "rsegjh\n",
      "\n"
     ]
    }
   ],
   "source": [
    "str = input(\"Enter string : \")\n",
    "words = str.split(\" \")\n",
    "for word in words:\n",
    "    if(len(word)%2==0):\n",
    "        print(f\"{word}\\n\")"
   ]
  },
  {
   "cell_type": "markdown",
   "metadata": {},
   "source": [
    "### 06) WAP to count numbers of vowels in given string."
   ]
  },
  {
   "cell_type": "code",
   "execution_count": 29,
   "metadata": {},
   "outputs": [
    {
     "name": "stdout",
     "output_type": "stream",
     "text": [
      "Enter string : jevin\n",
      "2\n"
     ]
    }
   ],
   "source": [
    "str = input(\"Enter string : \")\n",
    "count = 0\n",
    "str = str.lower()\n",
    "for char in str:\n",
    "    if(char=='a' or char=='e' or char=='i' or char=='o' or char=='u'):\n",
    "        count+=1\n",
    "print(count)"
   ]
  },
  {
   "cell_type": "markdown",
   "metadata": {},
   "source": [
    "### 07) WAP to capitalize the first and last character of each word in a string."
   ]
  },
  {
   "cell_type": "code",
   "execution_count": 48,
   "metadata": {},
   "outputs": [
    {
     "name": "stdout",
     "output_type": "stream",
     "text": [
      "Enter string : my name is morad jevin\n",
      "MY NamE IS MoraD JeviN \n"
     ]
    }
   ],
   "source": [
    "str = input(\"Enter string : \")\n",
    "words = str.split(\" \")\n",
    "newWord = \"\"\n",
    "for word in words:\n",
    "    newWord += word[0].upper() + word[1:-1] + word[-1].upper() + \" \"\n",
    "print(newWord)"
   ]
  },
  {
   "cell_type": "markdown",
   "metadata": {},
   "source": [
    "### 08) WAP to convert given array to string."
   ]
  },
  {
   "cell_type": "code",
   "execution_count": 44,
   "metadata": {},
   "outputs": [
    {
     "name": "stdout",
     "output_type": "stream",
     "text": [
      "12345\n",
      "<class 'str'>\n"
     ]
    }
   ],
   "source": [
    "arr = ['1','2','3','4','5']\n",
    "str = \"\".join(arr)\n",
    "print(f\"{str}\\n{type(str)}\")"
   ]
  },
  {
   "cell_type": "markdown",
   "metadata": {},
   "source": [
    "### 09) Check if the password and confirm password is same or not. \n",
    "### In case of only case's mistake, show the error message."
   ]
  },
  {
   "cell_type": "code",
   "execution_count": 50,
   "metadata": {},
   "outputs": [
    {
     "name": "stdout",
     "output_type": "stream",
     "text": [
      "Enter password : abc\n",
      "Enter confirm password : Abc\n",
      "Case's mistake\n"
     ]
    }
   ],
   "source": [
    "password = input(\"Enter password : \")\n",
    "confirm = input(\"Enter confirm password : \")\n",
    "if(password!=confirm):\n",
    "    if(password.lower()==confirm.lower()):\n",
    "        print(\"Case's mistake\")\n",
    "    else:\n",
    "        print(\"Password doesn't match\")\n",
    "else:\n",
    "    print(\"Correct password\")"
   ]
  },
  {
   "cell_type": "markdown",
   "metadata": {},
   "source": [
    "### 10) : Display credit card number. \n",
    "### card no. : 1234 5678 9012 3456\n",
    "### display as  : **** **** **** 3456"
   ]
  },
  {
   "cell_type": "code",
   "execution_count": 58,
   "metadata": {},
   "outputs": [
    {
     "name": "stdout",
     "output_type": "stream",
     "text": [
      "Enter card number : 1234567891324567\n",
      "********4567\n"
     ]
    }
   ],
   "source": [
    "num = input(\"Enter card number : \")\n",
    "num = num[12::]\n",
    "str = num.rjust(12,'*')\n",
    "print(str)"
   ]
  },
  {
   "cell_type": "markdown",
   "metadata": {},
   "source": [
    "### 11) : Checking if the two strings are Anagram or not.\n",
    "### s1 = decimal and s2 = medical are Anagram"
   ]
  },
  {
   "cell_type": "code",
   "execution_count": 61,
   "metadata": {},
   "outputs": [
    {
     "name": "stdout",
     "output_type": "stream",
     "text": [
      "Enter s1 : decimal\n",
      "Enter s2 : medical\n",
      "Strings are anagram\n"
     ]
    }
   ],
   "source": [
    "def freq(word):\n",
    "    freq_dict = {}\n",
    "    for char in word:\n",
    "        freq_dict[char] = freq_dict.get(char, 0) + 1\n",
    "    return freq_dict\n",
    "\n",
    "s1 = input(\"Enter s1 : \")\n",
    "s2 = input(\"Enter s2 : \")\n",
    "\n",
    "if(freq(s1)!=freq(s2)):\n",
    "    print(\"Strings are not anagram\")\n",
    "else:\n",
    "    print(\"Strings are anagram\")"
   ]
  },
  {
   "cell_type": "markdown",
   "metadata": {},
   "source": [
    "### 12) : Rearrange the given string. First lowercase then uppercase alphabets.\n",
    "### input : EHlsarwiwhtwMV\n",
    "### output : lsarwiwhtwEHMV"
   ]
  },
  {
   "cell_type": "code",
   "execution_count": null,
   "metadata": {},
   "outputs": [],
   "source": [
    "str = input(\"Enter string : \")\n",
    "lower_case = ''.join([char for char in s if char.islower()])\n",
    "upper_case = ''.join([char for char in s if char.isupper()])\n",
    "str = lower_case + upper_case"
   ]
  }
 ],
 "metadata": {
  "kernelspec": {
   "display_name": "Python 3 (ipykernel)",
   "language": "python",
   "name": "python3"
  },
  "language_info": {
   "codemirror_mode": {
    "name": "ipython",
    "version": 3
   },
   "file_extension": ".py",
   "mimetype": "text/x-python",
   "name": "python",
   "nbconvert_exporter": "python",
   "pygments_lexer": "ipython3",
   "version": "3.10.9"
  },
  "vscode": {
   "interpreter": {
    "hash": "31f2aee4e71d21fbe5cf8b01ff0e069b9275f58929596ceb00d14d90e3e16cd6"
   }
  }
 },
 "nbformat": 4,
 "nbformat_minor": 4
}
